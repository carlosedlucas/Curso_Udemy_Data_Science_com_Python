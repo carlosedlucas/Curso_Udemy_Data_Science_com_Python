{
 "cells": [
  {
   "cell_type": "code",
   "execution_count": 2,
   "metadata": {},
   "outputs": [],
   "source": [
    "import numpy as np"
   ]
  },
  {
   "attachments": {},
   "cell_type": "markdown",
   "metadata": {},
   "source": [
    "# Exercício 1\n",
    "\n",
    "Gere uma distribuição normal aleatória de ordem 4 x 5. Armazene o resultado em uma variável.\n"
   ]
  },
  {
   "cell_type": "code",
   "execution_count": 7,
   "metadata": {},
   "outputs": [
    {
     "name": "stdout",
     "output_type": "stream",
     "text": [
      "(4,)\n",
      "4\n",
      "1\n",
      "32\n",
      "int64\n",
      "<class 'numpy.ndarray'>\n"
     ]
    }
   ],
   "source": [
    "array = np.array([10, 5, 3, 200])\n",
    "print(array.shape)\n",
    "print(array.size)\n",
    "print(array.ndim)\n",
    "print(array.nbytes)\n",
    "print(array.dtype)\n",
    "print(type(array))"
   ]
  },
  {
   "attachments": {},
   "cell_type": "markdown",
   "metadata": {},
   "source": [
    "# Exercício 2\n",
    "\n",
    "Gere uma distribuição normal aleatória com de ordem 20 x 5, com média 10 e desvio padrão 3. Armazene o resultado em uma variável. Em seguida crie um DataFrame a partir dos dados criados."
   ]
  },
  {
   "cell_type": "code",
   "execution_count": 18,
   "metadata": {},
   "outputs": [
    {
     "name": "stdout",
     "output_type": "stream",
     "text": [
      "Shape: (4,)\n",
      "Size: 4\n",
      "Ndim: 1\n",
      "Nbytes: 32\n",
      "Dtype: int64\n",
      "Type: <class 'numpy.ndarray'>\n",
      "[1 2 3 4]\n"
     ]
    },
    {
     "data": {
      "text/plain": [
       "'O objeto inserido não é um array NumPy.'"
      ]
     },
     "execution_count": 18,
     "metadata": {},
     "output_type": "execute_result"
    }
   ],
   "source": [
    "def inspecionar_array(array):\n",
    "   if isinstance(array, np.ndarray):\n",
    "    print(f'Shape: {array.shape}')\n",
    "    print(f'Size: {array.size}')\n",
    "    print(f'Ndim: {array.ndim}')\n",
    "    print(f'Nbytes: {array.nbytes}')\n",
    "    print(f'Dtype: {array.dtype}')\n",
    "    print(f'Type: {type(array)}')\n",
    "    print(array)\n",
    "   else:\n",
    "      return 'O objeto inserido não é um array NumPy.'\n",
    "\n",
    "inspecionar_array(np.array([1,2,3,4]))\n",
    "inspecionar_array([1,2,3])\n",
    "\n"
   ]
  },
  {
   "attachments": {},
   "cell_type": "markdown",
   "metadata": {},
   "source": [
    "# Exercício 3\n",
    "\n",
    "Gere uma distribuição normal padrão e utilize o módulo Seaborn para construir uma visualização dos dados. A amostra deve conter 3000 números. Use a função distplot() do módulo Seaborn e importe também"
   ]
  },
  {
   "cell_type": "code",
   "execution_count": 39,
   "metadata": {},
   "outputs": [
    {
     "name": "stdout",
     "output_type": "stream",
     "text": [
      "[-1  4  7  9]\n",
      "\n",
      "[ 1  2  3  4  5  6  7  8  9 10]\n",
      "\n",
      "[10 11 12 13 14]\n",
      "\n",
      "[1990 1995 2000 2005 2010 2015 2020]\n",
      "\n",
      "[2020 2010 2000 1990 1980 1970 1960 1950 1940 1930 1920 1910 1900]\n",
      "\n",
      "100\n"
     ]
    }
   ],
   "source": [
    "a = np.array([-1, 4, 7, 9])\n",
    "b = np.array(range(1,11))\n",
    "tupla = (10,11,12,13,14)\n",
    "c = np.array(tupla)\n",
    "d = np.array(range(1990,2021,5))\n",
    "e = np.array(range(2020,1899,-10))\n",
    "f = np.array(100)\n",
    "\n",
    "print(a)\n",
    "print()\n",
    "print(b)\n",
    "print()\n",
    "print(c)\n",
    "print()\n",
    "print(d)\n",
    "print()\n",
    "print(e)\n",
    "print()\n",
    "print(f)"
   ]
  },
  {
   "attachments": {},
   "cell_type": "markdown",
   "metadata": {},
   "source": [
    "# Exercício 4\n",
    "\n",
    "A distribuição binomial é uma distribuição discreta de probabilidade e descreve resultados binários, como sucesso e fracasso ou cara e coroa, por exemplo. Podemos criar dados aleatórios para esta distribuição com a função np.random.binomial().Sendo:\n",
    "\n",
    "* n: número de tentativas;\n",
    "\n",
    "* p: probabilidade de ocorrência de cada tentativa;\n",
    "\n",
    "* size: tamanho do vetor retornado (shape).\n",
    "\n",
    "Com base nestas informações:\n",
    "\n",
    "* Gere números aleatórios seguindo uma distribuição binomial, com 6 tentativas, em que a probabilidade de ocorrência de cada tentativa é 0.5, e tamanho 100. Armazene os dados em uma variável, 'data1'.\n",
    "\n",
    "* Gere números aleatórios seguindo uma distribuição binomial, com 2 tentativas, em que a probabilidade de ocorrência de cada tentativa é 0.8, e tamanho 1000. Armazene os dados em uma variável, 'data2'."
   ]
  },
  {
   "cell_type": "code",
   "execution_count": 40,
   "metadata": {},
   "outputs": [
    {
     "name": "stdout",
     "output_type": "stream",
     "text": [
      "[1. 1. 1. 1. 1. 1. 1. 1. 1. 1.]\n",
      "\n",
      "[[1. 1. 1. 1.]\n",
      " [1. 1. 1. 1.]\n",
      " [1. 1. 1. 1.]\n",
      " [1. 1. 1. 1.]]\n",
      "\n",
      "[[1 1 1]\n",
      " [1 1 1]]\n"
     ]
    }
   ],
   "source": [
    "a = np.ones(shape= 10)\n",
    "b = np.ones(shape= (4,4))\n",
    "c = np.ones(shape= (2,3), dtype= int)\n",
    "\n",
    "print(a)\n",
    "print()\n",
    "print(b)\n",
    "print()\n",
    "print(c)"
   ]
  },
  {
   "attachments": {},
   "cell_type": "markdown",
   "metadata": {},
   "source": [
    "# Exercício 5\n",
    "\n",
    "Use o módulo Seaborn para visualizar a distribuição de números aleatórios oriunda de uma distribuição binomial, com 6 tentativas, probabilidade 0.5 e tamanho 3000."
   ]
  },
  {
   "cell_type": "code",
   "execution_count": 43,
   "metadata": {},
   "outputs": [
    {
     "name": "stdout",
     "output_type": "stream",
     "text": [
      "[0. 0. 0. 0. 0. 0. 0. 0. 0. 0.]\n",
      "\n",
      "[[0. 0.]\n",
      " [0. 0.]]\n",
      "\n",
      "[[0. 0. 0. 0. 0. 0.]\n",
      " [0. 0. 0. 0. 0. 0.]\n",
      " [0. 0. 0. 0. 0. 0.]\n",
      " [0. 0. 0. 0. 0. 0.]]\n"
     ]
    }
   ],
   "source": [
    "a = np.zeros(shape= 10)\n",
    "b = np.zeros(shape= (2,2))\n",
    "c = np.zeros(shape= (4,6))\n",
    "\n",
    "print(a)\n",
    "print()\n",
    "print(b)\n",
    "print()\n",
    "print(c)"
   ]
  },
  {
   "attachments": {},
   "cell_type": "markdown",
   "metadata": {},
   "source": [
    "# Exercício 6\n",
    "\n",
    "A distribuição uniforme é uma distribuição contínua de probabilidade, com importantes aplicações em estatística. Gere uma amostra da distribuição uniforme de shape 3 x 3.\n",
    "Dica: use np.random.uniform()."
   ]
  },
  {
   "cell_type": "code",
   "execution_count": 57,
   "metadata": {},
   "outputs": [
    {
     "name": "stdout",
     "output_type": "stream",
     "text": [
      "[[10]\n",
      " [15]\n",
      " [20]\n",
      " [25]\n",
      " [30]\n",
      " [35]\n",
      " [40]\n",
      " [45]]\n",
      "\n",
      "[-50 -45 -40 -35 -30 -25 -20 -15 -10  -5]\n",
      "\n",
      "[[ 50  52  54  56  58  60  62  64  66  68]\n",
      " [ 70  72  74  76  78  80  82  84  86  88]\n",
      " [ 90  92  94  96  98 100 102 104 106 108]\n",
      " [110 112 114 116 118 120 122 124 126 128]\n",
      " [130 132 134 136 138 140 142 144 146 148]]\n"
     ]
    }
   ],
   "source": [
    "a = np.arange(start= 10, stop= 50, step= 5).reshape((-1, 1))\n",
    "b = np.arange(start= -50, stop= -4, step= 5)\n",
    "c = np.arange(start= 50, stop= 150, step= 2).reshape((-1,10))\n",
    "\n",
    "print(a)\n",
    "print()\n",
    "print(b)\n",
    "print()\n",
    "print(c)"
   ]
  },
  {
   "attachments": {},
   "cell_type": "markdown",
   "metadata": {},
   "source": [
    "# Exercício 7\n",
    "\n",
    "Use o módulo Seaborn para visualizar a distribuição de números aleatórios oriunda de uma distribuição uniforme, de tamanho 1000."
   ]
  },
  {
   "cell_type": "code",
   "execution_count": 64,
   "metadata": {},
   "outputs": [
    {
     "name": "stdout",
     "output_type": "stream",
     "text": [
      "[5. 5. 5. 5. 5. 5. 5. 5. 5. 5.]\n",
      "\n",
      "[[-5. -5. -5. -5.]\n",
      " [-5. -5. -5. -5.]\n",
      " [-5. -5. -5. -5.]\n",
      " [-5. -5. -5. -5.]]\n",
      "\n",
      "[[3 3 3]\n",
      " [3 3 3]\n",
      " [3 3 3]]\n",
      "\n",
      "[[50 50 50 50 50 50 50 50 50 50]\n",
      " [50 50 50 50 50 50 50 50 50 50]\n",
      " [50 50 50 50 50 50 50 50 50 50]\n",
      " [50 50 50 50 50 50 50 50 50 50]\n",
      " [50 50 50 50 50 50 50 50 50 50]\n",
      " [50 50 50 50 50 50 50 50 50 50]\n",
      " [50 50 50 50 50 50 50 50 50 50]\n",
      " [50 50 50 50 50 50 50 50 50 50]\n",
      " [50 50 50 50 50 50 50 50 50 50]\n",
      " [50 50 50 50 50 50 50 50 50 50]]\n"
     ]
    }
   ],
   "source": [
    "a = np.full(shape= 10, fill_value= 5, dtype= float)\n",
    "b = np.full(shape= (4,4), fill_value= -5, dtype= float)\n",
    "c = np.full(shape= (3,3), fill_value= 3, dtype= int)\n",
    "d = np.full(shape= (10,10), fill_value= 50)\n",
    "\n",
    "print(a)\n",
    "print()\n",
    "print(b)\n",
    "print()\n",
    "print(c)\n",
    "print()\n",
    "print(d)"
   ]
  },
  {
   "attachments": {},
   "cell_type": "markdown",
   "metadata": {},
   "source": [
    "# Exercício 8\n",
    "\n",
    "Gere um array com números aleatórios entre -1000 e 3000, de shape (30, 5).\n",
    "Dica: np.random.randint()."
   ]
  },
  {
   "cell_type": "code",
   "execution_count": 71,
   "metadata": {},
   "outputs": [
    {
     "name": "stdout",
     "output_type": "stream",
     "text": [
      "Há 8 dados ausentes em K\n"
     ]
    }
   ],
   "source": [
    "K = np.array([[ np.NaN,   1.,  10.,   0.],\n",
    "       [ np.NaN,  np.NaN,  np.NaN,  np.NaN],\n",
    "       [100.,  50.,  np.NaN, -25.],\n",
    "       [ 30.,  np.NaN,  np.NaN, 130.]])\n",
    "\n",
    "np.isnan(K)\n",
    "\n",
    "print(f'Há {np.isnan(k).sum()} dados ausentes em K')"
   ]
  },
  {
   "attachments": {},
   "cell_type": "markdown",
   "metadata": {},
   "source": [
    "# Exercício 9\n",
    "\n",
    "Gere um array de shape 30 x 5 com números entre 0 e 4, inclusive."
   ]
  },
  {
   "cell_type": "code",
   "execution_count": 74,
   "metadata": {},
   "outputs": [
    {
     "data": {
      "text/plain": [
       "array([ 1.,  6., 11., 16., 21.])"
      ]
     },
     "execution_count": 74,
     "metadata": {},
     "output_type": "execute_result"
    }
   ],
   "source": [
    "np.linspace(start=1, stop=21, num= 5)"
   ]
  },
  {
   "attachments": {},
   "cell_type": "markdown",
   "metadata": {},
   "source": [
    "# Exercício 10\n",
    "\n",
    "Gere um array de números inteiros com limites superiores diferentes (100, 300, 50, 10000), mas com valor mínimo 10.\n"
   ]
  },
  {
   "cell_type": "code",
   "execution_count": 79,
   "metadata": {},
   "outputs": [
    {
     "data": {
      "text/plain": [
       "array([[1.00000000e+01],\n",
       "       [3.59381366e+06],\n",
       "       [1.29154967e+12],\n",
       "       [4.64158883e+17],\n",
       "       [1.66810054e+23],\n",
       "       [5.99484250e+28],\n",
       "       [2.15443469e+34],\n",
       "       [7.74263683e+39],\n",
       "       [2.78255940e+45],\n",
       "       [1.00000000e+51]])"
      ]
     },
     "execution_count": 79,
     "metadata": {},
     "output_type": "execute_result"
    }
   ],
   "source": [
    "np.logspace(start=1, stop=51, num=10).reshape(-1,1)"
   ]
  },
  {
   "attachments": {},
   "cell_type": "markdown",
   "metadata": {},
   "source": [
    "# Exercício 11\n",
    "\n",
    "Utilize a função np.random.rand() para gerar um array 10 x 5. Lembre que esta função gera por padrão números aleatórios de acordo com uma distribuição uniforme no intervalo [0,1). Em seguida mostre na tela a média, desvio padrão e mediana do array gerado."
   ]
  },
  {
   "cell_type": "code",
   "execution_count": 86,
   "metadata": {},
   "outputs": [
    {
     "data": {
      "text/plain": [
       "array([[ 5,  0,  0,  0,  0,  0],\n",
       "       [ 0, 10,  0,  0,  0,  0],\n",
       "       [ 0,  0, 15,  0,  0,  0],\n",
       "       [ 0,  0,  0, 20,  0,  0],\n",
       "       [ 0,  0,  0,  0, 25,  0],\n",
       "       [ 0,  0,  0,  0,  0, 30]])"
      ]
     },
     "execution_count": 86,
     "metadata": {},
     "output_type": "execute_result"
    }
   ],
   "source": [
    "np.diag(range(5,31,5))"
   ]
  },
  {
   "attachments": {},
   "cell_type": "markdown",
   "metadata": {},
   "source": [
    "# Exercício 12\n",
    "\n",
    "Use a função np.random.randn() para gerar um array com números aleatórios de uma distribuição normal padrão, de shape 30 x 3. Seguidamente, crie um DataFrame com os dados criados e gere uma visualização da distribuição de probabilidade de cada coluna com o módulo Seaborn.\n",
    "\n"
   ]
  },
  {
   "cell_type": "code",
   "execution_count": 90,
   "metadata": {},
   "outputs": [
    {
     "data": {
      "text/plain": [
       "array([[1., 0., 0., 0., 0., 0., 0., 0., 0., 0.],\n",
       "       [0., 1., 0., 0., 0., 0., 0., 0., 0., 0.],\n",
       "       [0., 0., 1., 0., 0., 0., 0., 0., 0., 0.],\n",
       "       [0., 0., 0., 1., 0., 0., 0., 0., 0., 0.],\n",
       "       [0., 0., 0., 0., 1., 0., 0., 0., 0., 0.],\n",
       "       [0., 0., 0., 0., 0., 1., 0., 0., 0., 0.],\n",
       "       [0., 0., 0., 0., 0., 0., 1., 0., 0., 0.],\n",
       "       [0., 0., 0., 0., 0., 0., 0., 1., 0., 0.],\n",
       "       [0., 0., 0., 0., 0., 0., 0., 0., 1., 0.],\n",
       "       [0., 0., 0., 0., 0., 0., 0., 0., 0., 1.]])"
      ]
     },
     "execution_count": 90,
     "metadata": {},
     "output_type": "execute_result"
    }
   ],
   "source": [
    "np.eye(N=10)"
   ]
  },
  {
   "attachments": {},
   "cell_type": "markdown",
   "metadata": {},
   "source": [
    "# Exercício 13\n",
    "\n",
    "Gere um array com 800 números aleatórios de acordo com uma distribuição exponencial padrão. Use a função np.random.standard_exponential()."
   ]
  },
  {
   "cell_type": "code",
   "execution_count": 111,
   "metadata": {},
   "outputs": [
    {
     "name": "stdout",
     "output_type": "stream",
     "text": [
      "Soma dos elementos do array 1: 55\n",
      "Soma dos elementos do array 2: 255.0\n",
      "Soma dos elementos do array 3: 1275\n",
      "Soma dos elementos do array 4: 10056552148.564463\n",
      "Soma dos elementos do array 5: 105\n"
     ]
    }
   ],
   "source": [
    "array1 = np.arange(1,11)\n",
    "array2 = np.linspace(1,50,10)\n",
    "array3 = np.array(range(51))\n",
    "array4 = np.logspace(1,10,5)\n",
    "array5 = np.diag(range(5,31,5))\n",
    "\n",
    "lista_array = [array1,array2,array3,array4,array5]\n",
    "\n",
    "i = 1\n",
    "for array in lista_array:\n",
    "    print(f'Soma dos elementos do array {i}: {np.sum(array)}')\n",
    "    i = i + 1\n"
   ]
  },
  {
   "attachments": {},
   "cell_type": "markdown",
   "metadata": {},
   "source": [
    "# Exercício 14\n",
    "\n",
    "A distribuição de Poisson é uma distribuição discreta de probabilidade. Esta distribuição descreve quantas vezes um determinado evento pode ocorrer em um tempo especificado. A biblioteca NumPy permite gerar números aleatórios desta distribuição com a função np.random.poisson(). Gere uma distribuição aleatória de shape 50 x 3, com número conhecido de ocorrências igual a 5."
   ]
  },
  {
   "cell_type": "code",
   "execution_count": 116,
   "metadata": {},
   "outputs": [
    {
     "name": "stdout",
     "output_type": "stream",
     "text": [
      "672\n",
      "\n",
      "[221 259 192]\n",
      "\n",
      "[153 140  77 226  76]\n"
     ]
    }
   ],
   "source": [
    "matriz = np.array(np.random.randint(1,100,15)).reshape(5,3)\n",
    "\n",
    "a = np.sum(matriz)\n",
    "b = np.sum(matriz, axis=0)\n",
    "c = np.sum(matriz, axis=1)\n",
    "\n",
    "print(a)\n",
    "print()\n",
    "print(b)\n",
    "print()\n",
    "print(c)"
   ]
  },
  {
   "attachments": {},
   "cell_type": "markdown",
   "metadata": {},
   "source": [
    "# Exercício 15\n",
    "\n",
    "Gere uma distribuição aleatória de Poisson com 10.000 amostras, em que o número conhecido de ocorrências é igual 3. Armazene os dados em um objeto Pandas Series."
   ]
  },
  {
   "cell_type": "code",
   "execution_count": 124,
   "metadata": {},
   "outputs": [
    {
     "name": "stdout",
     "output_type": "stream",
     "text": [
      "Array0. Valor máximo: 27. Valor mínimo: -1.\n",
      "\n",
      "Array1. Valor máximo: 291. Valor mínimo: -90.\n",
      "\n",
      "Array2. Valor máximo: 1.8187054051136464. Valor mínimo: -1.3471127933677782.\n",
      "\n",
      "Array3. Valor máximo: 50. Valor mínimo: 12.\n",
      "\n"
     ]
    }
   ],
   "source": [
    "array1 = np.array([-1, 10, 3, 4, 7, 27])\n",
    "array2 = np.random.randint(-100,300,30)\n",
    "array3 = np.random.randn(10)\n",
    "array4 = np.array(range(50,10,-2))\n",
    "\n",
    "array = [array1, array2, array3, array4]\n",
    "\n",
    "for index,array in enumerate(array):\n",
    "    print(f'Array{index}. Valor máximo: {np.max(array)}. Valor mínimo: {np.min(array)}.\\n') "
   ]
  },
  {
   "attachments": {},
   "cell_type": "markdown",
   "metadata": {},
   "source": [
    "# Exercício 16\n",
    "\n",
    "A função np.random.choice() gera uma amostra aleatória de um array unidimensional. Gere uma amostra aleatória de tamanho 10, a partir das letras 'a', 'b', 'c', 'd'."
   ]
  },
  {
   "cell_type": "code",
   "execution_count": 126,
   "metadata": {},
   "outputs": [
    {
     "name": "stdout",
     "output_type": "stream",
     "text": [
      "Valor máximo da matriz: 988\n",
      "Valor máximo por coluna: [ 712 -136  392  970  743  988  960  850  817  491]\n",
      "Valor máximo por linha: [786 970 807 988 960]\n",
      "Valor mínimo da matriz: -975\n",
      "Valor mínimo por coluna: [-637 -753 -626 -658 -858 -772 -834 -975   14 -921]\n",
      "Valor mínimo por linha: [-658 -921 -637 -858 -975]\n"
     ]
    }
   ],
   "source": [
    "def info_matriz(matriz):\n",
    "    print(f'Valor máximo da matriz: {np.max(matriz)}')\n",
    "    print(f'Valor máximo por coluna: {np.max(matriz, axis=1)}')\n",
    "    print(f'Valor máximo por linha: {np.max(matriz, axis=0)}')\n",
    "    print(f'Valor mínimo da matriz: {np.min(matriz)}')\n",
    "    print(f'Valor mínimo por coluna: {np.min(matriz, axis=1)}')\n",
    "    print(f'Valor mínimo por linha: {np.min(matriz, axis=0)}')\n",
    "\n",
    "matriz = np.random.randint(-1000,1000,50).reshape(10,5)\n",
    "info_matriz(matriz)"
   ]
  },
  {
   "attachments": {},
   "cell_type": "markdown",
   "metadata": {},
   "source": [
    "# Exercício 17\n",
    "\n",
    "Gere um DataFrame com 7 colunas e 100 linhas, com as seguintes características:\n",
    "\n",
    "* a coluna 'A' segue uma distribuição normal padrão;\n",
    "\n",
    "* a coluna 'B' segue uma distribuição uniforme;\n",
    "\n",
    "* a coluna 'C' segue uma distribuição binomial, com 6 tentativas e probabilidade de sucesso 0.6;\n",
    "\n",
    "* a coluna 'D' segue uma distribuição exponencial padrão;\n",
    "\n",
    "* a coluna 'E' segue uma distribuição de Poisson com número conhecido de ocorrências igual a 10;\n",
    "\n",
    "* a coluna 'F' segue uma distribuição normal de média 100 e desvio padrão 15;\n",
    "\n",
    "* a coluna 'G' possui números aleatórios inteiros entre 50 e 3000."
   ]
  },
  {
   "cell_type": "code",
   "execution_count": 128,
   "metadata": {},
   "outputs": [
    {
     "name": "stdout",
     "output_type": "stream",
     "text": [
      "Média: 40.03215278872069\n",
      "\n",
      "Mediana: 40.02200045971733\n",
      "\n",
      "Desvio padrão: 0.46974165512707733\n",
      "\n",
      "Variância: 0.22065722256152606\n"
     ]
    }
   ],
   "source": [
    "arr = np.random.normal(40,0.5,size = (300))\n",
    "\n",
    "print(f'Média: {np.mean(arr)}\\n')\n",
    "\n",
    "print(f'Mediana: {np.median(arr)}\\n')\n",
    "\n",
    "print(f'Desvio padrão: {np.std(arr)}\\n')\n",
    "\n",
    "print(f'Variância: {np.var(arr)}')"
   ]
  },
  {
   "attachments": {},
   "cell_type": "markdown",
   "metadata": {},
   "source": [
    "# Exercício 18\n",
    "\n",
    "* Gere uma amostra da distribuição Qui-Quadrado com 3 graus de liberdade e shape 5 x 5;\n",
    "\n",
    "* Gere uma amostra da distribuição Qui-Quadrado com 2 graus de liberdade e tamanho 2.000 e plot um gráfico para visualizar a distribuição de probabilidade gerada;\n",
    "\n",
    "* Gere uma amostra de uma distribuição Exponencial com scale 5 e shape 2 x 2."
   ]
  },
  {
   "cell_type": "code",
   "execution_count": 130,
   "metadata": {},
   "outputs": [
    {
     "name": "stdout",
     "output_type": "stream",
     "text": [
      "Para x:\n",
      "Matriz de covariância: 1.0\n",
      "Matriz de correlação 0.08779529353604297\n",
      "\n",
      "Para y:\n",
      "Matriz de covariância: 1.0\n",
      "Matriz de correlação 0.07696748417977765\n"
     ]
    }
   ],
   "source": [
    "x = np.random.rand(100)\n",
    "y = np.random.uniform(size=100)\n",
    "\n",
    "print('Para x:')\n",
    "print(f'Matriz de covariância: {np.corrcoef(x)}')\n",
    "print(f'Matriz de correlação {np.cov(x)}\\n')\n",
    "print('Para y:')\n",
    "print(f'Matriz de covariância: {np.corrcoef(y)}')\n",
    "print(f'Matriz de correlação {np.cov(y)}')"
   ]
  },
  {
   "attachments": {},
   "cell_type": "markdown",
   "metadata": {},
   "source": [
    "# Exercício 19\n",
    "\n",
    "A distribuição logística é amplamente utilizada em Machine Learning e Redes Neurais. Gere um vetor com números aleatórios de uma amostra de tamanho 100, gerado por meio de uma distribuição logística com média 5 e desvio padrão 0.9."
   ]
  },
  {
   "cell_type": "code",
   "execution_count": 131,
   "metadata": {},
   "outputs": [
    {
     "data": {
      "text/plain": [
       "9"
      ]
     },
     "execution_count": 131,
     "metadata": {},
     "output_type": "execute_result"
    }
   ],
   "source": [
    "A = np.array([[11, 15, 33, 105],\n",
    "              [1, 140, 45, 90],\n",
    "              [67, 230, 78, 99]])\n",
    "\n",
    "np.argmax(A)"
   ]
  },
  {
   "attachments": {},
   "cell_type": "markdown",
   "metadata": {},
   "source": [
    "# Exercício 20\n",
    "\n",
    "Construa dois vetores de tamanho 100, com média 1 e desvio padrão 0.5, sendo que o primeiro segue uma distribuição normal, ao passo que o segundo vetor segue uma distribuição logística. Em seguida construa um DataFrame com os números aleatórios criados e gere um gráfico único que mostre ambas as distribuições aleatórias geradas."
   ]
  },
  {
   "cell_type": "code",
   "execution_count": 132,
   "metadata": {},
   "outputs": [
    {
     "data": {
      "text/plain": [
       "4"
      ]
     },
     "execution_count": 132,
     "metadata": {},
     "output_type": "execute_result"
    }
   ],
   "source": [
    "B = np.array([\n",
    "    [73, 22, 20, 62,  3],\n",
    "    [68, 84, 27, 59, 93],\n",
    "    [48, 52,  4, 55, 50],\n",
    "    [42, 23, 63, 67,  4],\n",
    "    [44, 30, 41, 31, 29]])\n",
    "\n",
    "np.argmin(B)"
   ]
  }
 ],
 "metadata": {
  "kernelspec": {
   "display_name": "venv",
   "language": "python",
   "name": "python3"
  },
  "language_info": {
   "codemirror_mode": {
    "name": "ipython",
    "version": 3
   },
   "file_extension": ".py",
   "mimetype": "text/x-python",
   "name": "python",
   "nbconvert_exporter": "python",
   "pygments_lexer": "ipython3",
   "version": "3.10.6 (main, Nov 14 2022, 16:10:14) [GCC 11.3.0]"
  },
  "orig_nbformat": 4,
  "vscode": {
   "interpreter": {
    "hash": "8dd7d52f2c39cac81aaf55a4d1a13b695a98dd40aa0b9414225b9fd5b9845f9f"
   }
  }
 },
 "nbformat": 4,
 "nbformat_minor": 2
}

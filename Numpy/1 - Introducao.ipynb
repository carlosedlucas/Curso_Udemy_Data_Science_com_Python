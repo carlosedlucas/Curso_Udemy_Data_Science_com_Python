{
 "cells": [
  {
   "cell_type": "code",
   "execution_count": 2,
   "metadata": {},
   "outputs": [],
   "source": [
    "import numpy as np"
   ]
  },
  {
   "attachments": {},
   "cell_type": "markdown",
   "metadata": {},
   "source": [
    "# Exercício 1\n",
    "\n",
    "**Inspecionando um Array NumPy**\n",
    "\n",
    "Um objeto numpy possui atributos e métodos, herdados da classe (numpy.ndarray). Crie um array  e inspecione os seguintes atributos:\n",
    "\n",
    "* shape: uma tupla que contém o número de elementos (tamanho) em cada dimensão do array;\n",
    "\n",
    "* size: número total de elementos do array;\n",
    "\n",
    "* ndim: número de dimensões (eixos);\n",
    "\n",
    "* nbytes: número de bytes utilizado no armazenamento dos dados;\n",
    "\n",
    "* dtype: data type dos elementos do array.\n",
    "\n",
    "\n",
    "\n",
    "Exemplo de implementação:\n",
    "\n",
    "```\n",
    "import numpy as np\n",
    "array = np.array([1, 2, 3, 4])\n",
    "print('Shape: ', array.shape)\n",
    "```\n",
    "\n"
   ]
  },
  {
   "cell_type": "code",
   "execution_count": 7,
   "metadata": {},
   "outputs": [
    {
     "name": "stdout",
     "output_type": "stream",
     "text": [
      "(4,)\n",
      "4\n",
      "1\n",
      "32\n",
      "int64\n",
      "<class 'numpy.ndarray'>\n"
     ]
    }
   ],
   "source": [
    "array = np.array([10, 5, 3, 200])\n",
    "print(array.shape)\n",
    "print(array.size)\n",
    "print(array.ndim)\n",
    "print(array.nbytes)\n",
    "print(array.dtype)\n",
    "print(type(array))"
   ]
  },
  {
   "attachments": {},
   "cell_type": "markdown",
   "metadata": {},
   "source": [
    "# Exercício 2\n",
    "\n",
    "Com base no exercício anterior crie uma função que receba um array e mostre na tela seus atributos. Verifique se o argumento inserido é de fato um objeto numpy. Use também a função built-in type() para verificar a classe do objeto.\n",
    "\n",
    "Retorno esperado:\n",
    "\n",
    "```\n",
    "inspecionar_array(np.array([1,2,3]))\n",
    " \n",
    "Shape : (3,)\n",
    "Size:  3\n",
    "Ndim:  1\n",
    "Nbytes:  24\n",
    "Dtype:  int64\n",
    "Type:  <class 'numpy.ndarray'>\n",
    "array([1, 2, 3, 4])\n",
    "\n",
    "\n",
    "inspecionar_array([1,2,3])\n",
    " \n",
    "'O objeto inserido não é um array NumPy.'\n",
    "```"
   ]
  },
  {
   "cell_type": "code",
   "execution_count": 18,
   "metadata": {},
   "outputs": [
    {
     "name": "stdout",
     "output_type": "stream",
     "text": [
      "Shape: (4,)\n",
      "Size: 4\n",
      "Ndim: 1\n",
      "Nbytes: 32\n",
      "Dtype: int64\n",
      "Type: <class 'numpy.ndarray'>\n",
      "[1 2 3 4]\n"
     ]
    },
    {
     "data": {
      "text/plain": [
       "'O objeto inserido não é um array NumPy.'"
      ]
     },
     "execution_count": 18,
     "metadata": {},
     "output_type": "execute_result"
    }
   ],
   "source": [
    "def inspecionar_array(array):\n",
    "   if isinstance(array, np.ndarray):\n",
    "    print(f'Shape: {array.shape}')\n",
    "    print(f'Size: {array.size}')\n",
    "    print(f'Ndim: {array.ndim}')\n",
    "    print(f'Nbytes: {array.nbytes}')\n",
    "    print(f'Dtype: {array.dtype}')\n",
    "    print(f'Type: {type(array)}')\n",
    "    print(array)\n",
    "   else:\n",
    "      return 'O objeto inserido não é um array NumPy.'\n",
    "\n",
    "inspecionar_array(np.array([1,2,3,4]))\n",
    "inspecionar_array([1,2,3])\n",
    "\n"
   ]
  },
  {
   "attachments": {},
   "cell_type": "markdown",
   "metadata": {},
   "source": [
    "# Exercício 3\n",
    "\n",
    "Use a função np.array() para criar os arrays unidimensionais listados abaixo:\n",
    "\n",
    "a) Use uma lista como argumento e obtenha:\n",
    "```\n",
    "array([-1,  4,  7,  9])\n",
    "```\n",
    "\n",
    "b) Use a função range() e obtenha:\n",
    "```    \n",
    "array([ 1,  2,  3,  4,  5,  6,  7,  8,  9, 10])\n",
    "```\n",
    "\n",
    "c)Use uma tupla como argumento e obtenha:\n",
    "```    \n",
    "array([10, 11, 12, 13, 14])\n",
    "```\n",
    "\n",
    "d) Use a função range() e obtenha:\n",
    "```    \n",
    "array([1990, 1995, 2000, 2005, 2010, 2015, 2020])\n",
    "```\n",
    "\n",
    "e) Use a função range() e obtenha:\n",
    "```\n",
    "array([2020, 2010, 2000, 1990, 1980, 1970, 1960, 1950, 1940, 1930, 1920,\n",
    "       1910, 1900])\n",
    "```\n",
    "\n",
    "f) Obtenha:\n",
    "```\n",
    "array(100)\n",
    "```"
   ]
  },
  {
   "cell_type": "code",
   "execution_count": 39,
   "metadata": {},
   "outputs": [
    {
     "name": "stdout",
     "output_type": "stream",
     "text": [
      "[-1  4  7  9]\n",
      "\n",
      "[ 1  2  3  4  5  6  7  8  9 10]\n",
      "\n",
      "[10 11 12 13 14]\n",
      "\n",
      "[1990 1995 2000 2005 2010 2015 2020]\n",
      "\n",
      "[2020 2010 2000 1990 1980 1970 1960 1950 1940 1930 1920 1910 1900]\n",
      "\n",
      "100\n"
     ]
    }
   ],
   "source": [
    "a = np.array([-1, 4, 7, 9])\n",
    "b = np.array(range(1,11))\n",
    "tupla = (10,11,12,13,14)\n",
    "c = np.array(tupla)\n",
    "d = np.array(range(1990,2021,5))\n",
    "e = np.array(range(2020,1899,-10))\n",
    "f = np.array(100)\n",
    "\n",
    "print(a)\n",
    "print()\n",
    "print(b)\n",
    "print()\n",
    "print(c)\n",
    "print()\n",
    "print(d)\n",
    "print()\n",
    "print(e)\n",
    "print()\n",
    "print(f)"
   ]
  },
  {
   "attachments": {},
   "cell_type": "markdown",
   "metadata": {},
   "source": [
    "# Exercício 4\n",
    "\n",
    "A função np.ones() permite criar um array preenchido com o número 1 em todas as suas entradas. Podemos especificar como argumentos o shape e o tipo de dado dtype do array. Use esta função para criar os arrays a seguir:\n",
    "\n",
    "a)\n",
    "```\n",
    "array([1., 1., 1., 1., 1., 1., 1., 1., 1., 1.])\n",
    "```\n",
    "\n",
    "b)\n",
    "```\n",
    "array([[1., 1., 1., 1.],\n",
    "       [1., 1., 1., 1.],\n",
    "       [1., 1., 1., 1.],\n",
    "       [1., 1., 1., 1.]])\n",
    "```       \n",
    "\n",
    "c)\n",
    "```\n",
    "array([[1, 1],\n",
    "       [1, 1],\n",
    "       [1, 1]])\n",
    "```"
   ]
  },
  {
   "cell_type": "code",
   "execution_count": 40,
   "metadata": {},
   "outputs": [
    {
     "name": "stdout",
     "output_type": "stream",
     "text": [
      "[1. 1. 1. 1. 1. 1. 1. 1. 1. 1.]\n",
      "\n",
      "[[1. 1. 1. 1.]\n",
      " [1. 1. 1. 1.]\n",
      " [1. 1. 1. 1.]\n",
      " [1. 1. 1. 1.]]\n",
      "\n",
      "[[1 1 1]\n",
      " [1 1 1]]\n"
     ]
    }
   ],
   "source": [
    "a = np.ones(shape= 10)\n",
    "b = np.ones(shape= (4,4))\n",
    "c = np.ones(shape= (2,3), dtype= int)\n",
    "\n",
    "print(a)\n",
    "print()\n",
    "print(b)\n",
    "print()\n",
    "print(c)"
   ]
  },
  {
   "attachments": {},
   "cell_type": "markdown",
   "metadata": {},
   "source": [
    "# Exercício 5\n",
    "\n",
    "A função np.zeros() permite criar um array preenchido com o número 0 em todas as suas entradas. Podemos especificar como argumentos o shape e o tipo de dado dtype do array (default é o float). Use esta função para criar os arrays a seguir:\n",
    "\n",
    "a)\n",
    "```\n",
    "array([0., 0., 0., 0., 0., 0., 0., 0., 0., 0.])\n",
    "```\n",
    "\n",
    "b)\n",
    "```\n",
    "array([[0., 0.],\n",
    "       [0., 0.]])  \n",
    "```       \n",
    "\n",
    "c)\n",
    "```\n",
    "array([[0., 0., 0., 0., 0., 0.],\n",
    "       [0., 0., 0., 0., 0., 0.],\n",
    "       [0., 0., 0., 0., 0., 0.],\n",
    "       [0., 0., 0., 0., 0., 0.]])\n",
    "```"
   ]
  },
  {
   "cell_type": "code",
   "execution_count": 43,
   "metadata": {},
   "outputs": [
    {
     "name": "stdout",
     "output_type": "stream",
     "text": [
      "[0. 0. 0. 0. 0. 0. 0. 0. 0. 0.]\n",
      "\n",
      "[[0. 0.]\n",
      " [0. 0.]]\n",
      "\n",
      "[[0. 0. 0. 0. 0. 0.]\n",
      " [0. 0. 0. 0. 0. 0.]\n",
      " [0. 0. 0. 0. 0. 0.]\n",
      " [0. 0. 0. 0. 0. 0.]]\n"
     ]
    }
   ],
   "source": [
    "a = np.zeros(shape= 10)\n",
    "b = np.zeros(shape= (2,2))\n",
    "c = np.zeros(shape= (4,6))\n",
    "\n",
    "print(a)\n",
    "print()\n",
    "print(b)\n",
    "print()\n",
    "print(c)"
   ]
  },
  {
   "attachments": {},
   "cell_type": "markdown",
   "metadata": {},
   "source": [
    "# Exercício 6\n",
    "\n",
    "Crie os arrays a seguir:\n",
    "\n",
    "a)\n",
    "```\n",
    "array([[10],\n",
    "       [15],\n",
    "       [20],\n",
    "       [25],\n",
    "       [30],\n",
    "       [35],\n",
    "       [40],\n",
    "       [45]])\n",
    "```\n",
    "\n",
    "b)\n",
    "```\n",
    "array([-50, -45, -40, -35, -30, -25, -20, -15, -10,  -5])\n",
    "```\n",
    "\n",
    "c)\n",
    "```\n",
    "array([[ 50,  52,  54,  56,  58,  60,  62,  64,  66,  68],\n",
    "       [ 70,  72,  74,  76,  78,  80,  82,  84,  86,  88],\n",
    "       [ 90,  92,  94,  96,  98, 100, 102, 104, 106, 108],\n",
    "       [110, 112, 114, 116, 118, 120, 122, 124, 126, 128],\n",
    "       [130, 132, 134, 136, 138, 140, 142, 144, 146, 148]])\n",
    "```       \n",
    "\n",
    "Dica: use np.arange() ou np.array(range())."
   ]
  },
  {
   "cell_type": "code",
   "execution_count": 57,
   "metadata": {},
   "outputs": [
    {
     "name": "stdout",
     "output_type": "stream",
     "text": [
      "[[10]\n",
      " [15]\n",
      " [20]\n",
      " [25]\n",
      " [30]\n",
      " [35]\n",
      " [40]\n",
      " [45]]\n",
      "\n",
      "[-50 -45 -40 -35 -30 -25 -20 -15 -10  -5]\n",
      "\n",
      "[[ 50  52  54  56  58  60  62  64  66  68]\n",
      " [ 70  72  74  76  78  80  82  84  86  88]\n",
      " [ 90  92  94  96  98 100 102 104 106 108]\n",
      " [110 112 114 116 118 120 122 124 126 128]\n",
      " [130 132 134 136 138 140 142 144 146 148]]\n"
     ]
    }
   ],
   "source": [
    "a = np.arange(start= 10, stop= 50, step= 5).reshape((-1, 1))\n",
    "b = np.arange(start= -50, stop= -4, step= 5)\n",
    "c = np.arange(start= 50, stop= 150, step= 2).reshape((-1,10))\n",
    "\n",
    "print(a)\n",
    "print()\n",
    "print(b)\n",
    "print()\n",
    "print(c)"
   ]
  },
  {
   "attachments": {},
   "cell_type": "markdown",
   "metadata": {},
   "source": [
    "# Exercício 7\n",
    "\n",
    "Utilize a função np.full(shape, fill_value, dtype) para criar os arrays a seguir. Esta função permite criar um array com um shape e dtype definidos pelo usuário, preenchido com um determinado valor.\n",
    "\n",
    "a)\n",
    "```\n",
    "array([5., 5., 5., 5., 5., 5., 5., 5., 5., 5.])\n",
    "```\n",
    "\n",
    "b)\n",
    "```\n",
    "array([[-5., -5., -5., -5.],\n",
    "       [-5., -5., -5., -5.],\n",
    "       [-5., -5., -5., -5.],\n",
    "       [-5., -5., -5., -5.]])\n",
    "```\n",
    "\n",
    "c)\n",
    "```\n",
    "array([[3, 3, 3],\n",
    "       [3, 3, 3],\n",
    "       [3, 3, 3]])\n",
    "```\n",
    "\n",
    "d)\n",
    "```\n",
    "array([[50, 50, 50, 50, 50, 50, 50, 50, 50, 50],\n",
    "       [50, 50, 50, 50, 50, 50, 50, 50, 50, 50],\n",
    "       [50, 50, 50, 50, 50, 50, 50, 50, 50, 50],\n",
    "       [50, 50, 50, 50, 50, 50, 50, 50, 50, 50],\n",
    "       [50, 50, 50, 50, 50, 50, 50, 50, 50, 50],\n",
    "       [50, 50, 50, 50, 50, 50, 50, 50, 50, 50],\n",
    "       [50, 50, 50, 50, 50, 50, 50, 50, 50, 50],\n",
    "       [50, 50, 50, 50, 50, 50, 50, 50, 50, 50],\n",
    "       [50, 50, 50, 50, 50, 50, 50, 50, 50, 50],\n",
    "       [50, 50, 50, 50, 50, 50, 50, 50, 50, 50]])\n",
    "```\n",
    "\n",
    "Dica: outra possibilidade seria obter os arrays com uma operação diferente, a partir da multiplicação de uma matriz preenchida com número 1 por um determinado valor."
   ]
  },
  {
   "cell_type": "code",
   "execution_count": 64,
   "metadata": {},
   "outputs": [
    {
     "name": "stdout",
     "output_type": "stream",
     "text": [
      "[5. 5. 5. 5. 5. 5. 5. 5. 5. 5.]\n",
      "\n",
      "[[-5. -5. -5. -5.]\n",
      " [-5. -5. -5. -5.]\n",
      " [-5. -5. -5. -5.]\n",
      " [-5. -5. -5. -5.]]\n",
      "\n",
      "[[3 3 3]\n",
      " [3 3 3]\n",
      " [3 3 3]]\n",
      "\n",
      "[[50 50 50 50 50 50 50 50 50 50]\n",
      " [50 50 50 50 50 50 50 50 50 50]\n",
      " [50 50 50 50 50 50 50 50 50 50]\n",
      " [50 50 50 50 50 50 50 50 50 50]\n",
      " [50 50 50 50 50 50 50 50 50 50]\n",
      " [50 50 50 50 50 50 50 50 50 50]\n",
      " [50 50 50 50 50 50 50 50 50 50]\n",
      " [50 50 50 50 50 50 50 50 50 50]\n",
      " [50 50 50 50 50 50 50 50 50 50]\n",
      " [50 50 50 50 50 50 50 50 50 50]]\n"
     ]
    }
   ],
   "source": [
    "a = np.full(shape= 10, fill_value= 5, dtype= float)\n",
    "b = np.full(shape= (4,4), fill_value= -5, dtype= float)\n",
    "c = np.full(shape= (3,3), fill_value= 3, dtype= int)\n",
    "d = np.full(shape= (10,10), fill_value= 50)\n",
    "\n",
    "print(a)\n",
    "print()\n",
    "print(b)\n",
    "print()\n",
    "print(c)\n",
    "print()\n",
    "print(d)"
   ]
  },
  {
   "attachments": {},
   "cell_type": "markdown",
   "metadata": {},
   "source": [
    "# Exercício 8\n",
    "\n",
    "Defina o array K e verifique se há dados ausentes (missing data). Use a função np.isnan().\n",
    "\n",
    "```\n",
    "array([[ nan,   1.,  10.,   0.],\n",
    "       [ nan,  nan,  nan,  nan],\n",
    "       [100.,  50.,  nan, -25.],\n",
    "       [ 30.,  nan,  nan, 130.]])\n",
    "```"
   ]
  },
  {
   "cell_type": "code",
   "execution_count": 71,
   "metadata": {},
   "outputs": [
    {
     "name": "stdout",
     "output_type": "stream",
     "text": [
      "Há 8 dados ausentes em K\n"
     ]
    }
   ],
   "source": [
    "K = np.array([[ np.NaN,   1.,  10.,   0.],\n",
    "       [ np.NaN,  np.NaN,  np.NaN,  np.NaN],\n",
    "       [100.,  50.,  np.NaN, -25.],\n",
    "       [ 30.,  np.NaN,  np.NaN, 130.]])\n",
    "\n",
    "np.isnan(K)\n",
    "\n",
    "print(f'Há {np.isnan(k).sum()} dados ausentes em K')"
   ]
  },
  {
   "attachments": {},
   "cell_type": "markdown",
   "metadata": {},
   "source": [
    "# Exercício 9\n",
    "\n",
    "A função np.linspace() retorna um array com números contendo espaçamento uniforme em um intervalo definido. Crie um array com números dentro do intervalo [1,21] em 5 partes.\n",
    "\n",
    "Retorno esperado:\n",
    "```\n",
    "array([ 1.,  6., 11., 16., 21.])\n",
    "```"
   ]
  },
  {
   "cell_type": "code",
   "execution_count": 74,
   "metadata": {},
   "outputs": [
    {
     "data": {
      "text/plain": [
       "array([ 1.,  6., 11., 16., 21.])"
      ]
     },
     "execution_count": 74,
     "metadata": {},
     "output_type": "execute_result"
    }
   ],
   "source": [
    "np.linspace(start=1, stop=21, num= 5)"
   ]
  },
  {
   "attachments": {},
   "cell_type": "markdown",
   "metadata": {},
   "source": [
    "# Exercício 10\n",
    "\n",
    "A função np.logspace() retorna números com espaçamento uniforme em uma escala logarítmica. Crie um array com números dentro do intervalo [1, 51] em 10 partes com a função np.logspace().\n",
    "\n",
    "Retorno esperado:\n",
    "```\n",
    "array([[1.00000000e+01],\n",
    "       [3.59381366e+06],\n",
    "       [1.29154967e+12],\n",
    "       [4.64158883e+17],\n",
    "       [1.66810054e+23],\n",
    "       [5.99484250e+28],\n",
    "       [2.15443469e+34],\n",
    "       [7.74263683e+39],\n",
    "       [2.78255940e+45],\n",
    "       [1.00000000e+51]])\n",
    "```\n"
   ]
  },
  {
   "cell_type": "code",
   "execution_count": 79,
   "metadata": {},
   "outputs": [
    {
     "data": {
      "text/plain": [
       "array([[1.00000000e+01],\n",
       "       [3.59381366e+06],\n",
       "       [1.29154967e+12],\n",
       "       [4.64158883e+17],\n",
       "       [1.66810054e+23],\n",
       "       [5.99484250e+28],\n",
       "       [2.15443469e+34],\n",
       "       [7.74263683e+39],\n",
       "       [2.78255940e+45],\n",
       "       [1.00000000e+51]])"
      ]
     },
     "execution_count": 79,
     "metadata": {},
     "output_type": "execute_result"
    }
   ],
   "source": [
    "np.logspace(start=1, stop=51, num=10).reshape(-1,1)"
   ]
  },
  {
   "attachments": {},
   "cell_type": "markdown",
   "metadata": {},
   "source": [
    "# Exercício 11\n",
    "\n",
    "Use a função np.diag() para construir o array a seguir:\n",
    "\n",
    "```\n",
    "array([[ 5,  0,  0,  0,  0,  0],\n",
    "       [ 0, 10,  0,  0,  0,  0],\n",
    "       [ 0,  0, 15,  0,  0,  0],\n",
    "       [ 0,  0,  0, 20,  0,  0],\n",
    "       [ 0,  0,  0,  0, 25,  0],\n",
    "       [ 0,  0,  0,  0,  0, 30]])\n",
    "```"
   ]
  },
  {
   "cell_type": "code",
   "execution_count": 86,
   "metadata": {},
   "outputs": [
    {
     "data": {
      "text/plain": [
       "array([[ 5,  0,  0,  0,  0,  0],\n",
       "       [ 0, 10,  0,  0,  0,  0],\n",
       "       [ 0,  0, 15,  0,  0,  0],\n",
       "       [ 0,  0,  0, 20,  0,  0],\n",
       "       [ 0,  0,  0,  0, 25,  0],\n",
       "       [ 0,  0,  0,  0,  0, 30]])"
      ]
     },
     "execution_count": 86,
     "metadata": {},
     "output_type": "execute_result"
    }
   ],
   "source": [
    "np.diag(range(5,31,5))"
   ]
  },
  {
   "attachments": {},
   "cell_type": "markdown",
   "metadata": {},
   "source": [
    "# Exercício 12\n",
    "\n",
    "Use a função np.eye() (ou ainda np.identity()) para obter o array seguir.\n",
    "\n",
    "\n",
    "```\n",
    "array([[1., 0., 0., 0., 0., 0., 0., 0., 0., 0.],\n",
    "       [0., 1., 0., 0., 0., 0., 0., 0., 0., 0.],\n",
    "       [0., 0., 1., 0., 0., 0., 0., 0., 0., 0.],\n",
    "       [0., 0., 0., 1., 0., 0., 0., 0., 0., 0.],\n",
    "       [0., 0., 0., 0., 1., 0., 0., 0., 0., 0.],\n",
    "       [0., 0., 0., 0., 0., 1., 0., 0., 0., 0.],\n",
    "       [0., 0., 0., 0., 0., 0., 1., 0., 0., 0.],\n",
    "       [0., 0., 0., 0., 0., 0., 0., 1., 0., 0.],\n",
    "       [0., 0., 0., 0., 0., 0., 0., 0., 1., 0.],\n",
    "       [0., 0., 0., 0., 0., 0., 0., 0., 0., 1.]])\n",
    "```\n",
    "\n",
    "Dica: essa matriz é definida como matriz identidade, neste caso de ordem 10, e assume grande relevância em diversos cálculos computacionais, como veremos mais adiante.\n",
    "\n"
   ]
  },
  {
   "cell_type": "code",
   "execution_count": 90,
   "metadata": {},
   "outputs": [
    {
     "data": {
      "text/plain": [
       "array([[1., 0., 0., 0., 0., 0., 0., 0., 0., 0.],\n",
       "       [0., 1., 0., 0., 0., 0., 0., 0., 0., 0.],\n",
       "       [0., 0., 1., 0., 0., 0., 0., 0., 0., 0.],\n",
       "       [0., 0., 0., 1., 0., 0., 0., 0., 0., 0.],\n",
       "       [0., 0., 0., 0., 1., 0., 0., 0., 0., 0.],\n",
       "       [0., 0., 0., 0., 0., 1., 0., 0., 0., 0.],\n",
       "       [0., 0., 0., 0., 0., 0., 1., 0., 0., 0.],\n",
       "       [0., 0., 0., 0., 0., 0., 0., 1., 0., 0.],\n",
       "       [0., 0., 0., 0., 0., 0., 0., 0., 1., 0.],\n",
       "       [0., 0., 0., 0., 0., 0., 0., 0., 0., 1.]])"
      ]
     },
     "execution_count": 90,
     "metadata": {},
     "output_type": "execute_result"
    }
   ],
   "source": [
    "np.eye(N=10)"
   ]
  },
  {
   "attachments": {},
   "cell_type": "markdown",
   "metadata": {},
   "source": [
    "# Exercício 14\n",
    "\n",
    "Obtenha a soma dos elementos de cada array a seguir. Use a função np.sum(). Implemente uma solução com loop for, para tanto armazene os vetores em uma lista.\n",
    "\n",
    "```\n",
    "import numpy as np\n",
    "array1 = np.arange(1,11)\n",
    "array2 = np.linspace(1,50,10)\n",
    "array3 = np.array(range(51))\n",
    "array4 = np.logspace(1,10,5)\n",
    "array5 = np.diag(range(5,31,5))\n",
    "```\n",
    "Retorno esperado:\n",
    "\n",
    "```\n",
    "Soma dos elementos do array 1:  55\n",
    "Soma dos elementos do array 2:  255.0\n",
    "Soma dos elementos do array 3:  1275\n",
    "Soma dos elementos do array 4:  10056552148.564463\n",
    "Soma dos elementos do array 5:  105\n",
    "```"
   ]
  },
  {
   "cell_type": "code",
   "execution_count": 111,
   "metadata": {},
   "outputs": [
    {
     "name": "stdout",
     "output_type": "stream",
     "text": [
      "Soma dos elementos do array 1: 55\n",
      "Soma dos elementos do array 2: 255.0\n",
      "Soma dos elementos do array 3: 1275\n",
      "Soma dos elementos do array 4: 10056552148.564463\n",
      "Soma dos elementos do array 5: 105\n"
     ]
    }
   ],
   "source": [
    "array1 = np.arange(1,11)\n",
    "array2 = np.linspace(1,50,10)\n",
    "array3 = np.array(range(51))\n",
    "array4 = np.logspace(1,10,5)\n",
    "array5 = np.diag(range(5,31,5))\n",
    "\n",
    "lista_array = [array1,array2,array3,array4,array5]\n",
    "\n",
    "i = 1\n",
    "for array in lista_array:\n",
    "    print(f'Soma dos elementos do array {i}: {np.sum(array)}')\n",
    "    i = i + 1\n"
   ]
  },
  {
   "attachments": {},
   "cell_type": "markdown",
   "metadata": {},
   "source": [
    "# Exercício 15\n",
    "\n",
    "A partir da matriz definida abaixo obtenha: a) soma total dos elementos; b) soma das linhas ; c) soma das colunas.\n",
    "\n",
    "```\n",
    "import numpy as np\n",
    "matriz = np.array(np.random.randint(1,100,15)).reshape(5,3)\n",
    "```"
   ]
  },
  {
   "cell_type": "code",
   "execution_count": 116,
   "metadata": {},
   "outputs": [
    {
     "name": "stdout",
     "output_type": "stream",
     "text": [
      "672\n",
      "\n",
      "[221 259 192]\n",
      "\n",
      "[153 140  77 226  76]\n"
     ]
    }
   ],
   "source": [
    "matriz = np.array(np.random.randint(1,100,15)).reshape(5,3)\n",
    "\n",
    "a = np.sum(matriz)\n",
    "b = np.sum(matriz, axis=0)\n",
    "c = np.sum(matriz, axis=1)\n",
    "\n",
    "print(a)\n",
    "print()\n",
    "print(b)\n",
    "print()\n",
    "print(c)"
   ]
  },
  {
   "attachments": {},
   "cell_type": "markdown",
   "metadata": {},
   "source": [
    "# Exercício 16\n",
    "\n",
    "Obtenha o valor máximo e o valor mínimo de cada array abaixo. Implemente uma solução com loop for.\n",
    "\n",
    "```\n",
    "import numpy as np\n",
    "array1 = np.array([-1, 10, 3, 4, 7, 27])\n",
    "array2 = np.random.randint(-100,300,30)\n",
    "array3 = np.random.randn(10)\n",
    "array4 = np.array(range(50,10,-2))\n",
    "```\n",
    "\n",
    "Dica: para obter o valor máximo e mínimo de um array podemos usar array.max() e array.min() ( ou ainda max(array) e min(array))."
   ]
  },
  {
   "cell_type": "code",
   "execution_count": 124,
   "metadata": {},
   "outputs": [
    {
     "name": "stdout",
     "output_type": "stream",
     "text": [
      "Array0. Valor máximo: 27. Valor mínimo: -1.\n",
      "\n",
      "Array1. Valor máximo: 291. Valor mínimo: -90.\n",
      "\n",
      "Array2. Valor máximo: 1.8187054051136464. Valor mínimo: -1.3471127933677782.\n",
      "\n",
      "Array3. Valor máximo: 50. Valor mínimo: 12.\n",
      "\n"
     ]
    }
   ],
   "source": [
    "array1 = np.array([-1, 10, 3, 4, 7, 27])\n",
    "array2 = np.random.randint(-100,300,30)\n",
    "array3 = np.random.randn(10)\n",
    "array4 = np.array(range(50,10,-2))\n",
    "\n",
    "array = [array1, array2, array3, array4]\n",
    "\n",
    "for index,array in enumerate(array):\n",
    "    print(f'Array{index}. Valor máximo: {np.max(array)}. Valor mínimo: {np.min(array)}.\\n') "
   ]
  },
  {
   "attachments": {},
   "cell_type": "markdown",
   "metadata": {},
   "source": [
    "# Exercício 17\n",
    "\n",
    "Crie uma função que receba uma matriz como entrada e calcule:\n",
    "\n",
    "    a) Valor máximo da matriz;\n",
    "\n",
    "    b) Valor máximo por coluna;\n",
    "\n",
    "    c) Valor máximo por linha;\n",
    "\n",
    "    d) Valor mínimo da matriz;\n",
    "\n",
    "    e) Valor mínimo por coluna;\n",
    "\n",
    "    f) Valor mínimo por linha.\n",
    "\n",
    "\n",
    "\n",
    "Exemplo de retorno para a matriz definida abaixo:\n",
    "\n",
    "Input:\n",
    "```\n",
    "matriz = np.random.randint(-1000,1000,50).reshape(10,5)\n",
    "info_matriz(matriz)\n",
    "```\n",
    "Output:\n",
    "```\n",
    "Valor máximo da matriz:  987\n",
    "Valor máximo por coluna:  [959 987 597 748 719]\n",
    "Valor máximo por linha:  [ 987  312  982  204  719  689  101  793 -460  959]\n",
    "Valor mínimo da matriz:  -969\n",
    "Valor mínimo por coluna:  [-878 -966 -969 -884 -881]\n",
    "Valor mínimo por linha:  [  30 -878 -335 -863  -40 -289 -660 -239 -969 -966]\n",
    "```"
   ]
  },
  {
   "cell_type": "code",
   "execution_count": 126,
   "metadata": {},
   "outputs": [
    {
     "name": "stdout",
     "output_type": "stream",
     "text": [
      "Valor máximo da matriz: 988\n",
      "Valor máximo por coluna: [ 712 -136  392  970  743  988  960  850  817  491]\n",
      "Valor máximo por linha: [786 970 807 988 960]\n",
      "Valor mínimo da matriz: -975\n",
      "Valor mínimo por coluna: [-637 -753 -626 -658 -858 -772 -834 -975   14 -921]\n",
      "Valor mínimo por linha: [-658 -921 -637 -858 -975]\n"
     ]
    }
   ],
   "source": [
    "def info_matriz(matriz):\n",
    "    print(f'Valor máximo da matriz: {np.max(matriz)}')\n",
    "    print(f'Valor máximo por coluna: {np.max(matriz, axis=1)}')\n",
    "    print(f'Valor máximo por linha: {np.max(matriz, axis=0)}')\n",
    "    print(f'Valor mínimo da matriz: {np.min(matriz)}')\n",
    "    print(f'Valor mínimo por coluna: {np.min(matriz, axis=1)}')\n",
    "    print(f'Valor mínimo por linha: {np.min(matriz, axis=0)}')\n",
    "\n",
    "matriz = np.random.randint(-1000,1000,50).reshape(10,5)\n",
    "info_matriz(matriz)"
   ]
  },
  {
   "attachments": {},
   "cell_type": "markdown",
   "metadata": {},
   "source": [
    "# Exercício 18\n",
    "\n",
    "Com base no array definido abaixo obtenha sua média, mediana, variância e desvio padrão.\n",
    "\n",
    "```\n",
    "import numpy as np\n",
    "arr = np.random.normal(40,0.5,size = (300))\n",
    "```\n",
    "\n",
    "Dica:\n",
    "\n",
    "Média: np.mean();\n",
    "\n",
    "Mediana: np.median();\n",
    "\n",
    "Desvio padrão: np.std();\n",
    "\n",
    "Variância: np.var()."
   ]
  },
  {
   "cell_type": "code",
   "execution_count": 128,
   "metadata": {},
   "outputs": [
    {
     "name": "stdout",
     "output_type": "stream",
     "text": [
      "Média: 40.03215278872069\n",
      "\n",
      "Mediana: 40.02200045971733\n",
      "\n",
      "Desvio padrão: 0.46974165512707733\n",
      "\n",
      "Variância: 0.22065722256152606\n"
     ]
    }
   ],
   "source": [
    "arr = np.random.normal(40,0.5,size = (300))\n",
    "\n",
    "print(f'Média: {np.mean(arr)}\\n')\n",
    "\n",
    "print(f'Mediana: {np.median(arr)}\\n')\n",
    "\n",
    "print(f'Desvio padrão: {np.std(arr)}\\n')\n",
    "\n",
    "print(f'Variância: {np.var(arr)}')"
   ]
  },
  {
   "attachments": {},
   "cell_type": "markdown",
   "metadata": {},
   "source": [
    "# Exercício 19\n",
    "\n",
    "Com base nos arrays definidos a seguir obtenha a matriz de covariância e a matriz de correlação.\n",
    "\n",
    "```\n",
    "import numpy as np\n",
    "x = np.random.rand(100)\n",
    "y = np.random.uniform(size=100)\n",
    "```\n",
    "\n",
    "Dica: use np.corrcoef() e np.cov()."
   ]
  },
  {
   "cell_type": "code",
   "execution_count": 130,
   "metadata": {},
   "outputs": [
    {
     "name": "stdout",
     "output_type": "stream",
     "text": [
      "Para x:\n",
      "Matriz de covariância: 1.0\n",
      "Matriz de correlação 0.08779529353604297\n",
      "\n",
      "Para y:\n",
      "Matriz de covariância: 1.0\n",
      "Matriz de correlação 0.07696748417977765\n"
     ]
    }
   ],
   "source": [
    "x = np.random.rand(100)\n",
    "y = np.random.uniform(size=100)\n",
    "\n",
    "print('Para x:')\n",
    "print(f'Matriz de covariância: {np.corrcoef(x)}')\n",
    "print(f'Matriz de correlação {np.cov(x)}\\n')\n",
    "print('Para y:')\n",
    "print(f'Matriz de covariância: {np.corrcoef(y)}')\n",
    "print(f'Matriz de correlação {np.cov(y)}')"
   ]
  },
  {
   "attachments": {},
   "cell_type": "markdown",
   "metadata": {},
   "source": [
    "# Exercício 20\n",
    "\n",
    "Obtenha o índice do valor máximo do array A.\n",
    "\n",
    "```\n",
    "A = np.array([[11, 15, 33, 105],\n",
    "              [1, 140, 45, 90],\n",
    "              [67, 230, 78, 99]])\n",
    "```\n",
    "\n",
    "Dica: use np.argmax() ou array.argmax()."
   ]
  },
  {
   "cell_type": "code",
   "execution_count": 131,
   "metadata": {},
   "outputs": [
    {
     "data": {
      "text/plain": [
       "9"
      ]
     },
     "execution_count": 131,
     "metadata": {},
     "output_type": "execute_result"
    }
   ],
   "source": [
    "A = np.array([[11, 15, 33, 105],\n",
    "              [1, 140, 45, 90],\n",
    "              [67, 230, 78, 99]])\n",
    "\n",
    "np.argmax(A)"
   ]
  },
  {
   "attachments": {},
   "cell_type": "markdown",
   "metadata": {},
   "source": [
    "# Exercício 21\n",
    "\n",
    "Obtenha o índice do valor mínimo do array B.\n",
    "\n",
    "```\n",
    "B = np.array([\n",
    "    [73, 22, 20, 62,  3],\n",
    "    [68, 84, 27, 59, 93],\n",
    "    [48, 52,  4, 55, 50],\n",
    "    [42, 23, 63, 67,  4],\n",
    "    [44, 30, 41, 31, 29]])\n",
    "```\n",
    "\n",
    "Dica: use np.argmin() ou array.argmin()."
   ]
  },
  {
   "cell_type": "code",
   "execution_count": 132,
   "metadata": {},
   "outputs": [
    {
     "data": {
      "text/plain": [
       "4"
      ]
     },
     "execution_count": 132,
     "metadata": {},
     "output_type": "execute_result"
    }
   ],
   "source": [
    "B = np.array([\n",
    "    [73, 22, 20, 62,  3],\n",
    "    [68, 84, 27, 59, 93],\n",
    "    [48, 52,  4, 55, 50],\n",
    "    [42, 23, 63, 67,  4],\n",
    "    [44, 30, 41, 31, 29]])\n",
    "\n",
    "np.argmin(B)"
   ]
  },
  {
   "attachments": {},
   "cell_type": "markdown",
   "metadata": {},
   "source": [
    "# Exercício 22\n",
    "\n",
    "Escreva uma função que receba um array NumPy e mostre na tela um conjunto de  estatísticas descritivas deste objeto.\n",
    "\n",
    "Resultado esperado:\n",
    "\n",
    "Input\n",
    "```\n",
    "array = np.array([-57, 101, 270, 130, 144])\n",
    "info_array(array)\n",
    "```\n",
    "\n",
    "Output:\n",
    "```\n",
    "Valor máximo: 270\n",
    "Valor mínimo: -57\n",
    "Média: 117.6\n",
    "Mediana: 130.0\n",
    "Variância: 10967.439999999999\n",
    "Desvio padrão: 104.72554607162475\n",
    "```"
   ]
  },
  {
   "cell_type": "code",
   "execution_count": 133,
   "metadata": {},
   "outputs": [
    {
     "name": "stdout",
     "output_type": "stream",
     "text": [
      "Valor máximo: 270\n",
      "Valor mínimo: -57\n",
      "Média: 117.6\n",
      "Mediana: 130.0\n",
      "Variância: 10967.439999999999\n",
      "Desvio padrão: 104.72554607162475\n"
     ]
    }
   ],
   "source": [
    "def info_array(array):\n",
    "    print(f'Valor máximo: {np.max(array)}')\n",
    "    print(f'Valor mínimo: {np.min(array)}')\n",
    "    print(f'Média: {np.mean(array)}')\n",
    "    print(f'Mediana: {np.median(array)}')\n",
    "    print(f'Variância: {np.var(array)}')\n",
    "    print(f'Desvio padrão: {np.std(array)}')\n",
    "\n",
    "array = np.array([-57, 101, 270, 130, 144])\n",
    "info_array(array)"
   ]
  },
  {
   "attachments": {},
   "cell_type": "markdown",
   "metadata": {},
   "source": [
    "# Exercício 23\n",
    "\n",
    "Use a função np.unique() para obter um array com os elementos únicos do array abaixo. Para tanto, armazene o novo array em uma variável.\n",
    "\n",
    "```\n",
    "A = np.array([\n",
    "    [1, 3, 3, 4, 5],\n",
    "    [4, 7, 11, 3, 5],\n",
    "    [1, 11, 4, 4, 11]])\n",
    "```"
   ]
  },
  {
   "cell_type": "code",
   "execution_count": 134,
   "metadata": {},
   "outputs": [
    {
     "name": "stdout",
     "output_type": "stream",
     "text": [
      "[ 1  3  4  5  7 11]\n"
     ]
    }
   ],
   "source": [
    "A = np.array([\n",
    "    [1, 3, 3, 4, 5],\n",
    "    [4, 7, 11, 3, 5],\n",
    "    [1, 11, 4, 4, 11]])\n",
    "\n",
    "X = np.unique(A)\n",
    "print(X)"
   ]
  },
  {
   "attachments": {},
   "cell_type": "markdown",
   "metadata": {},
   "source": [
    "# Exercício 24\n",
    "\n",
    "Indexação de arrays 1-D\n",
    "\n",
    "Considerando os arrays abaixo:\n",
    "```\n",
    "import numpy as np\n",
    "array1 = np.array([10, 20, 30, 40])\n",
    "array2 = np.array([100, 30, 5, 1, 40, 100, 20, 130, 155,170])\n",
    "```\n",
    "\n",
    "Obtenha:\n",
    "\n",
    "a) o primeiro, o terceiro e o último elemento de cada array;\n",
    "\n",
    "b) inverta o array;\n",
    "\n",
    "c) pegue o número 20 em ambos os arrays e armazene a soma em uma variável.\n",
    "\n",
    "   "
   ]
  },
  {
   "cell_type": "code",
   "execution_count": 142,
   "metadata": {},
   "outputs": [
    {
     "name": "stdout",
     "output_type": "stream",
     "text": [
      "array1\n",
      "Primeiro elemento: 10.\n",
      "Terceiro elemento: 10.\n",
      "Último elemento: 40\n",
      "Array invertido: [40 30 20 10]\n",
      "\n",
      "array2\n",
      "Primeiro elemento: 100.\n",
      "Terceiro elemento: 100.\n",
      "Último elemento: 170\n",
      "Array invertido: [170 155 130  20 100  40   1   5  30 100]\n",
      "\n",
      "40\n"
     ]
    }
   ],
   "source": [
    "array1 = np.array([10, 20, 30, 40])\n",
    "array2 = np.array([100, 30, 5, 1, 40, 100, 20, 130, 155,170])\n",
    "\n",
    "array_list = [array1, array2]\n",
    "\n",
    "for index, array in enumerate(array_list, start=1):\n",
    "    print(f'array{index}\\n'\n",
    "    f'Primeiro elemento: {array[0]}.\\n'\n",
    "    f'Terceiro elemento: {array[0]}.\\n'\n",
    "    f'Último elemento: {array[-1]}\\n'\n",
    "    f'Array invertido: {array[::-1]}\\n')\n",
    "\n",
    "soma = array1[1] + array2[6]\n",
    "print(soma)"
   ]
  },
  {
   "attachments": {},
   "cell_type": "markdown",
   "metadata": {},
   "source": [
    "# Exercício 25\n",
    "\n",
    "Indexação de arrays 2-D\n",
    "\n",
    "Acesse os números 9 e 90 do array abaixo.\n",
    "\n",
    "```\n",
    "import numpy as np\n",
    "ar = np.array([[-1, 33, 44, 9, 1],[11, 1, 0, 90, 44]])\n",
    "```"
   ]
  },
  {
   "cell_type": "code",
   "execution_count": 143,
   "metadata": {},
   "outputs": [
    {
     "name": "stdout",
     "output_type": "stream",
     "text": [
      "9\n",
      "90\n"
     ]
    }
   ],
   "source": [
    "ar = np.array([[-1, 33, 44, 9, 1],[11, 1, 0, 90, 44]])\n",
    "print(ar[0][3])\n",
    "print(ar[1][3])"
   ]
  },
  {
   "attachments": {},
   "cell_type": "markdown",
   "metadata": {},
   "source": [
    "# Exercício 26\n",
    "\n",
    "Indexação de arrays 3-D\n",
    "\n",
    "Acesse os números 5, 9, 3 e 21 do array abaixo.\n",
    "\n",
    "```\n",
    "import numpy as np\n",
    "ar = np.array([\n",
    "    [[1, 1, 5, 1],\n",
    "     [1, 1, 1, 9]],\n",
    "    [[1, 3, 1, 1],\n",
    "     [1, 1, 21, 1]]\n",
    "              ])\n",
    "```"
   ]
  },
  {
   "cell_type": "code",
   "execution_count": 147,
   "metadata": {},
   "outputs": [
    {
     "name": "stdout",
     "output_type": "stream",
     "text": [
      "5\n",
      "9\n",
      "3\n",
      "21\n"
     ]
    }
   ],
   "source": [
    "ar = np.array([\n",
    "    [[1, 1, 5, 1],\n",
    "     [1, 1, 1, 9]],\n",
    "    [[1, 3, 1, 1],\n",
    "     [1, 1, 21, 1]]\n",
    "              ])\n",
    "\n",
    "print(ar[0][0][2])\n",
    "print(ar[0][1][3])\n",
    "print(ar[1][0][1])\n",
    "print(ar[1][1][2])"
   ]
  },
  {
   "attachments": {},
   "cell_type": "markdown",
   "metadata": {},
   "source": [
    "# Exercício 27\n",
    "\n",
    "Slicing 1-D\n",
    "\n",
    "Com base no array abaixo obtenha o slice do índice 2 até o índice 6.\n",
    "```\n",
    "import numpy as np\n",
    "ar = np.array([1, 2, 3, 4, 5, 6, 7, 8, 9, 10])\n",
    "```\n",
    "\n",
    "Dica: Em Python, slicing significa que podemos selecionar elementos entre índices especificados. Sintaxe: [start:end:pass].\n",
    "\n",
    "Se não especificarmos o start o valor default será 0. Se não definirmos o step, será considerado o valor 1."
   ]
  },
  {
   "cell_type": "code",
   "execution_count": 148,
   "metadata": {},
   "outputs": [
    {
     "data": {
      "text/plain": [
       "array([3, 4, 5, 6, 7])"
      ]
     },
     "execution_count": 148,
     "metadata": {},
     "output_type": "execute_result"
    }
   ],
   "source": [
    "ar = np.array([1, 2, 3, 4, 5, 6, 7, 8, 9, 10])\n",
    "ar[2:7]"
   ]
  }
 ],
 "metadata": {
  "kernelspec": {
   "display_name": "venv",
   "language": "python",
   "name": "python3"
  },
  "language_info": {
   "codemirror_mode": {
    "name": "ipython",
    "version": 3
   },
   "file_extension": ".py",
   "mimetype": "text/x-python",
   "name": "python",
   "nbconvert_exporter": "python",
   "pygments_lexer": "ipython3",
   "version": "3.10.6 (main, Nov 14 2022, 16:10:14) [GCC 11.3.0]"
  },
  "orig_nbformat": 4,
  "vscode": {
   "interpreter": {
    "hash": "8dd7d52f2c39cac81aaf55a4d1a13b695a98dd40aa0b9414225b9fd5b9845f9f"
   }
  }
 },
 "nbformat": 4,
 "nbformat_minor": 2
}

{
 "cells": [
  {
   "cell_type": "code",
   "execution_count": 1,
   "metadata": {},
   "outputs": [],
   "source": [
    "import numpy as np\n",
    "import pandas as pd"
   ]
  },
  {
   "attachments": {},
   "cell_type": "markdown",
   "metadata": {},
   "source": [
    "# Exercícios 1-8\n",
    "\n",
    "O código a seguir demonstra como o DataReader pode ser utilizado para carregar cotações de ativos.\n",
    "\n",
    "```\n",
    "import pandas as pd\n",
    "import yfinance as yf\n",
    " \n",
    "df = yf.Ticker('PETR4.SA').history(period = 'max')\n",
    "```\n",
    "\n",
    "Use o código anterior e faça:\n",
    "\n",
    "1. Mostre informações do dataset;\n",
    "\n",
    "2. Mostre os colunas Open e Close apenas para os meses de novembro a dezembro de 2020;\n",
    "\n",
    "3. Mostre os dias em que o preço de abertura foi superior a $ 32.95;\n",
    "\n",
    "4. Mostre os dias em que o preço de abertura foi maior ou igual a 30 e o preço máximo foi superior a 33.5;\n",
    "\n",
    "5. Mostre os dias em que o preço de fechamento foi superior a $ 32.8 e inferior a $ 33;\n",
    "\n",
    "6. Mostre os dias em que o preço máximo foi inferior a 7 ou o preço mínimo foi inferior a 9;\n",
    "\n",
    "7. Converta o DataFrame para o formato CSV;\n",
    "\n",
    "8. Carregue o dataset salvo no formato CSV e armazene em uma variável."
   ]
  },
  {
   "cell_type": "code",
   "execution_count": 7,
   "metadata": {},
   "outputs": [
    {
     "name": "stdout",
     "output_type": "stream",
     "text": [
      "(4,)\n",
      "4\n",
      "1\n",
      "32\n",
      "int64\n",
      "<class 'numpy.ndarray'>\n"
     ]
    }
   ],
   "source": [
    "array = np.array([10, 5, 3, 200])\n",
    "print(array.shape)\n",
    "print(array.size)\n",
    "print(array.ndim)\n",
    "print(array.nbytes)\n",
    "print(array.dtype)\n",
    "print(type(array))"
   ]
  }
 ],
 "metadata": {
  "kernelspec": {
   "display_name": "venv",
   "language": "python",
   "name": "python3"
  },
  "language_info": {
   "codemirror_mode": {
    "name": "ipython",
    "version": 3
   },
   "file_extension": ".py",
   "mimetype": "text/x-python",
   "name": "python",
   "nbconvert_exporter": "python",
   "pygments_lexer": "ipython3",
   "version": "3.10.6 (main, Nov 14 2022, 16:10:14) [GCC 11.3.0]"
  },
  "orig_nbformat": 4,
  "vscode": {
   "interpreter": {
    "hash": "8dd7d52f2c39cac81aaf55a4d1a13b695a98dd40aa0b9414225b9fd5b9845f9f"
   }
  }
 },
 "nbformat": 4,
 "nbformat_minor": 2
}

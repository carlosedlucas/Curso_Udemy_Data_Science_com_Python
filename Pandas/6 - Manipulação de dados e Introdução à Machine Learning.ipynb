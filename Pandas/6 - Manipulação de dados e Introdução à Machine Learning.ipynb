{
 "cells": [
  {
   "cell_type": "code",
   "execution_count": 1,
   "metadata": {},
   "outputs": [],
   "source": [
    "import numpy as np\n",
    "import pandas as pd"
   ]
  },
  {
   "attachments": {},
   "cell_type": "markdown",
   "metadata": {},
   "source": [
    "# Exercícios 1-14\n",
    "1. Importe o banco de dados anexo nesta aula, que diz respeito a dados de produção e produtividade para commodities selecionadas entre 2016-2018;\n",
    "\n",
    "2. Mostre as 3 primeiras linhas e posteriormente as 2 últimas linhas;\n",
    "\n",
    "3. Imprima as colunas e o índice do DataFrame;\n",
    "\n",
    "4. Imprima o shape do DataFrame;\n",
    "\n",
    "5. Mostre o tipo de dado em cada coluna;\n",
    "\n",
    "6. Mostre informações do dataset;\n",
    "\n",
    "7. Mostre os valores únicos nas colunas Area, Element e Item;\n",
    "\n",
    "8. Remova as colunas: 'Domain Code', 'Domain', 'Area Code', 'Element Code', 'Item Code', 'Year Code', 'Flag', 'Flag Description';\n",
    "\n",
    "9. Crie e aplique uma função na coluna Area que converta o nome de cada país em suas respectivas siglas;\n",
    "\n",
    "10. Converta o dtype da coluna Value para float;\n",
    "\n",
    "11. Crie uma nova coluna denominada Country/Commodity, que corresponde a concatenação das colunas Area e Item;\n",
    "\n",
    "12. Agrupe os dados em produção e produtividade (coluna Element) e armazene em variáveis distintas;\n",
    "\n",
    "13. Mude o shape dos dataframes criados no exercício anterior, com a função pivot, de modo que os novos objetos tenham índice  'Year', coluna 'Country/Commodity' e os valores correspondam a coluna 'Value';\n",
    "\n",
    "14. Concatene os objetos criados no exercício anterior, ao longo do eixo 0, com a função pd.concat(), passe como keys a lista ['Production', 'Yield'].\n",
    "\n",
    "Recursos para esta aula\n",
    "\n",
    "pd.read_csv('../Dados/FAOSTAT_data_12-5-2020.csv')"
   ]
  },
  {
   "cell_type": "code",
   "execution_count": 7,
   "metadata": {},
   "outputs": [
    {
     "name": "stdout",
     "output_type": "stream",
     "text": [
      "(4,)\n",
      "4\n",
      "1\n",
      "32\n",
      "int64\n",
      "<class 'numpy.ndarray'>\n"
     ]
    }
   ],
   "source": [
    "array = np.array([10, 5, 3, 200])\n",
    "print(array.shape)\n",
    "print(array.size)\n",
    "print(array.ndim)\n",
    "print(array.nbytes)\n",
    "print(array.dtype)\n",
    "print(type(array))"
   ]
  },
  {
   "attachments": {},
   "cell_type": "markdown",
   "metadata": {},
   "source": [
    "# Exercícios 15-32\n",
    "\n",
    "15. Importe o banco de dados anexo nesta aula;\n",
    "\n",
    "16. Mostre as 5 primeiras linhas;\n",
    "\n",
    "17. Mostre as colunas e o índice do dataset;\n",
    "\n",
    "18. Mostre o shape do dataset;\n",
    "\n",
    "19. Mostre informações do objeto criado com a função info();\n",
    "\n",
    "20. Mostre o dtype de cada coluna;\n",
    "\n",
    "21. Remova as seguintes colunas: 'id', 'date', 'zipcode', 'lat', 'long';\n",
    "\n",
    "22. Verifique se há missing data no dataset;\n",
    "\n",
    "23. Mostre estatísticas descritivas do dataset com a função describe();\n",
    "\n",
    "24. Calcule a matriz de correlação;\n",
    "\n",
    "25. Calcule a matriz de covariância;\n",
    "\n",
    "26. Faça um mapa de calor com base na matriz de correlação, use o módulo Seaborn;\n",
    "\n",
    "27. Faça um gráfico das relações entre as variáveis do dataset com a função pairplot do módulo Seaborn;\n",
    "\n",
    "28. Defina a variável target (coluna 'price') e armazene em uma variável;\n",
    "\n",
    "29. Defina as variáveis preditoras, que serão utilizadas para explicar o preço, e armazene em uma variável;\n",
    "\n",
    "30. Use a função train_test_split do sklearn para separar o dataset em dados de treino e teste, defina o test_size = 0.3 e random_state = 33;\n",
    "\n",
    "31. Crie um modelo de regressão linear e ajuste aos dados de treino, use: from sklearn.linear_model import LinearRegression;\n",
    "\n",
    "32. Calcule o coeficiente de determinação do modelo com a função score(), passando os dados de teste;\n",
    "\n",
    "Recursos para esta aula\n",
    "\n",
    "pd.read_csv('../Dados/kc_house_data.csv')"
   ]
  },
  {
   "cell_type": "code",
   "execution_count": 18,
   "metadata": {},
   "outputs": [
    {
     "name": "stdout",
     "output_type": "stream",
     "text": [
      "Shape: (4,)\n",
      "Size: 4\n",
      "Ndim: 1\n",
      "Nbytes: 32\n",
      "Dtype: int64\n",
      "Type: <class 'numpy.ndarray'>\n",
      "[1 2 3 4]\n"
     ]
    },
    {
     "data": {
      "text/plain": [
       "'O objeto inserido não é um array NumPy.'"
      ]
     },
     "execution_count": 18,
     "metadata": {},
     "output_type": "execute_result"
    }
   ],
   "source": [
    "def inspecionar_array(array):\n",
    "   if isinstance(array, np.ndarray):\n",
    "    print(f'Shape: {array.shape}')\n",
    "    print(f'Size: {array.size}')\n",
    "    print(f'Ndim: {array.ndim}')\n",
    "    print(f'Nbytes: {array.nbytes}')\n",
    "    print(f'Dtype: {array.dtype}')\n",
    "    print(f'Type: {type(array)}')\n",
    "    print(array)\n",
    "   else:\n",
    "      return 'O objeto inserido não é um array NumPy.'\n",
    "\n",
    "inspecionar_array(np.array([1,2,3,4]))\n",
    "inspecionar_array([1,2,3])\n",
    "\n"
   ]
  },
  {
   "attachments": {},
   "cell_type": "markdown",
   "metadata": {},
   "source": [
    "# Exercícios 33-55\n",
    "\n",
    "33. Importe o banco de dados anexo nesta aula, que apresenta dados sobre a performance de estudantes nas provas de matemática, redação e escrita;\n",
    "\n",
    "34. Mostre as 10 primeiras linhas; e ainda as 3 últimas;\n",
    "\n",
    "35. Mostre informações do dataset com a função info();\n",
    "\n",
    "36. Mostre as colunas e o índice do dataset;\n",
    "\n",
    "37. Mostre o shape do dataset;\n",
    "\n",
    "38. Mostre o dtype de cada coluna;\n",
    "\n",
    "39. Modifique o nome das colunas do dataset, substitua ' ' por '_', use ainda a função title();\n",
    "\n",
    "40. Crie um laço de repetição e mostre a distribuição dos dados em cada coluna com a função value_counts(); ordene os valores exibidos;\n",
    "\n",
    "41. Armazene o nome das provas em uma lista (Math_Score, Reading_Score e Writing_Score);\n",
    "\n",
    "42. Calcule o percentual (%) de missings nas colunas do dataset;\n",
    "\n",
    "43. Mostre estatísticas descritivas do dataset com a função describe();\n",
    "\n",
    "44. Agrupe os dados por gênero e posteriormente mostre as estatísticas descritvas para as provas (média, mediana, variância e desvio padrão);\n",
    "\n",
    "45. Considerando as variáveis Gênero e se os alunos fizeram curso Preparatório, refaça o exercício anterior;\n",
    "\n",
    "46. Agrupe os dados por Raça/Etnia e Grau de Escolaridade dos Pais e calcule a média das provas para estes grupos;\n",
    "\n",
    "47. Gere um gráfico para a proporção entre os gêneros;\n",
    "\n",
    "48. Gere um gráfico de barras para mostrar a distribuição da coluna Raça/Etnia;\n",
    "\n",
    "49. Gere um gráfico de barras para mostrar a distribuição do nível de escolaridade dos pais por gênero;\n",
    "\n",
    "50. Gere um gráfico de barras para mostrar a distribuição do Almoço (coluna Lunch) por gênero;\n",
    "\n",
    "51. Gere um boxplot para mostrar a distribuição das notas;\n",
    "\n",
    "52. Gere um gráfico com subplots com 3 colunas, em que cada plot demonstra a distribuição da nota das provas de acordo com a realização ou não do curso preparatório;\n",
    "\n",
    "53. Calcule a matriz de correlação e a matriz de covariância;\n",
    "\n",
    "54. Gere um mapa de calor para analisar a relação entre as features do dataset;\n",
    "\n",
    "55. Use o Seaborn para gerar um pairplot das notas por gênero.\n",
    "\n",
    "Recursos para esta aula\n",
    "\n",
    "pd.read_csv('../Dados/kc_house_data.csv')"
   ]
  },
  {
   "cell_type": "code",
   "execution_count": 39,
   "metadata": {},
   "outputs": [
    {
     "name": "stdout",
     "output_type": "stream",
     "text": [
      "[-1  4  7  9]\n",
      "\n",
      "[ 1  2  3  4  5  6  7  8  9 10]\n",
      "\n",
      "[10 11 12 13 14]\n",
      "\n",
      "[1990 1995 2000 2005 2010 2015 2020]\n",
      "\n",
      "[2020 2010 2000 1990 1980 1970 1960 1950 1940 1930 1920 1910 1900]\n",
      "\n",
      "100\n"
     ]
    }
   ],
   "source": [
    "a = np.array([-1, 4, 7, 9])\n",
    "b = np.array(range(1,11))\n",
    "tupla = (10,11,12,13,14)\n",
    "c = np.array(tupla)\n",
    "d = np.array(range(1990,2021,5))\n",
    "e = np.array(range(2020,1899,-10))\n",
    "f = np.array(100)\n",
    "\n",
    "print(a)\n",
    "print()\n",
    "print(b)\n",
    "print()\n",
    "print(c)\n",
    "print()\n",
    "print(d)\n",
    "print()\n",
    "print(e)\n",
    "print()\n",
    "print(f)"
   ]
  },
  {
   "attachments": {},
   "cell_type": "markdown",
   "metadata": {},
   "source": [
    "# Exercícios 56-33\n",
    "\n",
    "56. Importe o banco de dados anexo nesta aula, que apresenta dados sobre salário em termos dos anos de experiência para cada indivíduo;\n",
    "\n",
    "57. Mostre as 5 primeiras linhas;\n",
    "\n",
    "58. Mostre as colunas e o índice do dataset;\n",
    "\n",
    "59. Mostre o shape do dataset e a quantidade de observações;\n",
    "\n",
    "60. Mostre informações do objeto criado com a função info();\n",
    "\n",
    "61. Mostre o dtype de cada coluna;\n",
    "\n",
    "62. Verifique se há missing data no dataset;\n",
    "\n",
    "63. Mostre estatísticas descritivas do dataset com a função describe();\n",
    "\n",
    "64. Calcule a matriz de correlação;\n",
    "\n",
    "65. Calcule a matriz de covariância;\n",
    "\n",
    "66. Faça um mapa de calor com base na matriz de correlação, use o módulo Seaborn;\n",
    "\n",
    "67. Faça um gráfico scatter plot entre as variáveis Salário e Anos de Experiência;\n",
    "\n",
    "68. Gere um boxplot para cada variável do dataset;\n",
    "\n",
    "69. Defina a variável target (salário) e armazene em uma variável;\n",
    "\n",
    "70. Defina variável preditora, que será utilizada para explicar o salário, e armazene em uma variável;\n",
    "\n",
    "71. Use a função train_test_split do sklearn para separar o dataset em dados de treino e teste, defina o test_size = 0.3 e random_state = 7;\n",
    "\n",
    "72. Verifique o shape dos vetores de treino e teste criados;\n",
    "\n",
    "73. Crie um modelo de regressão linear e ajuste aos dados de treino, use: from sklearn.linear_model import LinearRegression;\n",
    "\n",
    "74. Calcule o coeficiente de determinação do modelo com a função score(), passando os dados de teste;\n",
    "\n",
    "75. Gere um gráfico mostrando o grau de ajustamento da reta aos dados de teste;\n",
    "\n",
    "76. Estime o modelo utilizando o método OLS, para tanto use a biblioteca statsmodels; mostre o coeficiente de determinação do modelo;\n",
    "\n",
    "77. A partir do modelo OLS, gere um gráfico mostrando o grau de ajustamento da reta aos dados de teste.\n",
    "\n",
    "Recursos para esta aula\n",
    "\n",
    "pd.read_csv('../Dados/Salary_Data.csv')"
   ]
  },
  {
   "cell_type": "code",
   "execution_count": 40,
   "metadata": {},
   "outputs": [
    {
     "name": "stdout",
     "output_type": "stream",
     "text": [
      "[1. 1. 1. 1. 1. 1. 1. 1. 1. 1.]\n",
      "\n",
      "[[1. 1. 1. 1.]\n",
      " [1. 1. 1. 1.]\n",
      " [1. 1. 1. 1.]\n",
      " [1. 1. 1. 1.]]\n",
      "\n",
      "[[1 1 1]\n",
      " [1 1 1]]\n"
     ]
    }
   ],
   "source": [
    "a = np.ones(shape= 10)\n",
    "b = np.ones(shape= (4,4))\n",
    "c = np.ones(shape= (2,3), dtype= int)\n",
    "\n",
    "print(a)\n",
    "print()\n",
    "print(b)\n",
    "print()\n",
    "print(c)"
   ]
  }
 ],
 "metadata": {
  "kernelspec": {
   "display_name": "venv",
   "language": "python",
   "name": "python3"
  },
  "language_info": {
   "codemirror_mode": {
    "name": "ipython",
    "version": 3
   },
   "file_extension": ".py",
   "mimetype": "text/x-python",
   "name": "python",
   "nbconvert_exporter": "python",
   "pygments_lexer": "ipython3",
   "version": "3.10.6 (main, Nov 14 2022, 16:10:14) [GCC 11.3.0]"
  },
  "orig_nbformat": 4,
  "vscode": {
   "interpreter": {
    "hash": "8dd7d52f2c39cac81aaf55a4d1a13b695a98dd40aa0b9414225b9fd5b9845f9f"
   }
  }
 },
 "nbformat": 4,
 "nbformat_minor": 2
}

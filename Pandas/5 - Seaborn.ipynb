{
 "cells": [
  {
   "cell_type": "code",
   "execution_count": 1,
   "metadata": {},
   "outputs": [],
   "source": [
    "import numpy as np\n",
    "import pandas as pd"
   ]
  },
  {
   "attachments": {},
   "cell_type": "markdown",
   "metadata": {},
   "source": [
    "# Exercícios 1-5\n",
    "\n",
    "**1**\n",
    "\n",
    "* Instale e use o Seaborn para gerar as visualizações desta seção (pip install seaborn);\n",
    "\n",
    "* Carregue o dataset Iris anexo nesta aula;\n",
    "\n",
    "* Remova a coluna Id;\n",
    "\n",
    "* Use a função countplot() para mostrar a frequência das três espécies de Iris do dataset.\n",
    "\n",
    "**2**\n",
    "\n",
    "* Faça um scatter plot para mostrar a relação entre 'SepalLengthCm' e 'SepalWidthCm';\n",
    "\n",
    "* Faça um scatter plot para mostrar a relação entre 'PetalLengthCm' e 'PetalWidthCm'.\n",
    "\n",
    "**3**\n",
    "\n",
    "* Faça um histograma das features do dataset (exclusive coluna Species).\n",
    "\n",
    "**4**\n",
    "\n",
    "* Faça um boxplot das features do dataset (exclusive coluna Species).\n",
    "\n",
    "**5**\n",
    "\n",
    "* Faça um heatmap das features do dataset (exclusive coluna Species);\n",
    "\n",
    "* Faça um pairplot para analisar a correlação entre as variáveis do dataset.\n",
    "\n",
    "Recursos para esta aula\n",
    "\n",
    "pd.read_csv('../Dados/Iris.csv')"
   ]
  },
  {
   "cell_type": "code",
   "execution_count": 7,
   "metadata": {},
   "outputs": [
    {
     "name": "stdout",
     "output_type": "stream",
     "text": [
      "(4,)\n",
      "4\n",
      "1\n",
      "32\n",
      "int64\n",
      "<class 'numpy.ndarray'>\n"
     ]
    }
   ],
   "source": [
    "array = np.array([10, 5, 3, 200])\n",
    "print(array.shape)\n",
    "print(array.size)\n",
    "print(array.ndim)\n",
    "print(array.nbytes)\n",
    "print(array.dtype)\n",
    "print(type(array))"
   ]
  },
  {
   "attachments": {},
   "cell_type": "markdown",
   "metadata": {},
   "source": [
    "# Exercícios 6-15\n",
    "\n",
    "**6**\n",
    "\n",
    "* Use o código abaixo para carregar o dataset tips com o Seaborn (que apresenta dados acerca da gorjeta paga por clientes, e ovalor total da conta , bem como outras informações);\n",
    "\n",
    "```\n",
    "import seaborn as sns\n",
    "tips = sns.load_dataset('tips')\n",
    "```\n",
    "\n",
    "* Apresente as estatísticas descritivas do dataset com a função describe();\n",
    "\n",
    "* Mostre as colunas do dataset;\n",
    "\n",
    "* Mostre o shape do dataset;\n",
    "\n",
    "* Verifique os valores únicos das colunas sex, smoker, day e time;\n",
    "\n",
    "* Apresente a proporção entre homens e mulheres;\n",
    "\n",
    "* Apresente a proporção entre fumantes e não fumantes;\n",
    "\n",
    "**7**\n",
    "\n",
    "* Use a função sns.countplot() para construir um gráfico com os dados categóricos do dataset.\n",
    "\n",
    "**8**\n",
    "\n",
    "* Use a função sns.scatterplot() para visualizar a relação entre as variáveis 'total_bill' e 'tip';\n",
    "\n",
    "* Utilize a função sns.scatterplot() para visualizar a relação entre as variáveis 'total_bill' e 'tip' e use o argumento hue para colorir cada ponto com a variável 'sex'.\n",
    "\n",
    "**9**\n",
    "\n",
    "* Utilize a função sns.relplot() para visualizar a relação entre as variáveis 'tip' e 'size' e use ainda o argumento hue para colorir cada ponto com a variável 'smoker'.\n",
    "\n",
    "**10**\n",
    "\n",
    "* Construa um boxplot para as variáveis quantitativas do dataset.\n",
    "\n",
    "**11**\n",
    "\n",
    "* Use a função sns.histplot() para visualizar a distribuição das variáveis 'tip' e 'total_bill'.\n",
    "\n",
    "**12**\n",
    "\n",
    "* Construa um heatmap para o visualizar o grau de relação entre as variáveis.\n",
    "\n",
    "**13**\n",
    "\n",
    "* Faça um pairplot para analisar a relação entre as variáveis do dataset.\n",
    "\n",
    "**14**\n",
    "\n",
    "* Use a função sns.lmplot() para visualizar a relação entre 'total_bill' e 'tip', ajustando um reta de regressão linear.\n",
    "\n",
    "**15**\n",
    "\n",
    "* Use a função sns.lmplot() para visualizar a relação entre 'total_bill' e 'tip', ajustando um reta de regressão linear e use ainda o argumento hue para colorir cada ponto com a variável 'smoker'."
   ]
  },
  {
   "cell_type": "code",
   "execution_count": 18,
   "metadata": {},
   "outputs": [
    {
     "name": "stdout",
     "output_type": "stream",
     "text": [
      "Shape: (4,)\n",
      "Size: 4\n",
      "Ndim: 1\n",
      "Nbytes: 32\n",
      "Dtype: int64\n",
      "Type: <class 'numpy.ndarray'>\n",
      "[1 2 3 4]\n"
     ]
    },
    {
     "data": {
      "text/plain": [
       "'O objeto inserido não é um array NumPy.'"
      ]
     },
     "execution_count": 18,
     "metadata": {},
     "output_type": "execute_result"
    }
   ],
   "source": [
    "def inspecionar_array(array):\n",
    "   if isinstance(array, np.ndarray):\n",
    "    print(f'Shape: {array.shape}')\n",
    "    print(f'Size: {array.size}')\n",
    "    print(f'Ndim: {array.ndim}')\n",
    "    print(f'Nbytes: {array.nbytes}')\n",
    "    print(f'Dtype: {array.dtype}')\n",
    "    print(f'Type: {type(array)}')\n",
    "    print(array)\n",
    "   else:\n",
    "      return 'O objeto inserido não é um array NumPy.'\n",
    "\n",
    "inspecionar_array(np.array([1,2,3,4]))\n",
    "inspecionar_array([1,2,3])\n",
    "\n"
   ]
  },
  {
   "attachments": {},
   "cell_type": "markdown",
   "metadata": {},
   "source": [
    "# Exercícios 16-20\n",
    "\n",
    "Com base no DataFrame abaixo responda:\n",
    "\n",
    "```\n",
    "import pandas as pd\n",
    "import matplotlib.pyplot as plt\n",
    "import seaborn as sns\n",
    "import numpy as np\n",
    " \n",
    "np.random.seed(20)\n",
    "n = 2_000  #size\n",
    "data = {\n",
    "    'A': np.random.normal(loc = 100, scale = 1, size = n),\n",
    "    'B': np.random.normal(loc = 100, scale = 2, size = n),\n",
    "    'C': np.random.normal(loc = 100, scale = 5, size = n),\n",
    "    'D': np.random.lognormal(mean = 2, sigma = 1.1, size = n),\n",
    "    'E': np.random.lognormal(mean = 2, sigma = 1.2, size = n),\n",
    "    'F': np.random.lognormal(mean = 2, sigma = 1.3, size = n),\n",
    "    'G': np.random.randn(n),\n",
    "    'H': np.random.binomial(n = 10, p = 0.8, size = n)\n",
    "}\n",
    " \n",
    "df = pd.DataFrame(data)\n",
    "```\n",
    "\n",
    "**16**\n",
    "\n",
    "* Use a função sns.kdeplot() para demonstrar em um único plot a distribuição das variáveis 'A', 'B' e 'C', que seguem uma distribuição normal.\n",
    "\n",
    "**17**\n",
    "\n",
    "* Use a função sns.kdeplot() para demonstrar em um único plot a distribuição das variáveis 'D', 'E' e 'F', que seguem uma distribuição lognormal.\n",
    "\n",
    "**18**\n",
    "\n",
    "* Use a função sns.joinplot() para demonstrar a relação entra variáveis 'A' e 'B',evidenciando suas respectivas distribuições. Repita o mesmo procedimento para as variáveis 'D' e 'F'.\n",
    "\n",
    "**19**\n",
    "\n",
    "* Elabore um histograma individual para as variáveis do dataset.\n",
    "\n",
    "**20**\n",
    "\n",
    "* Elabore um violinplot para as variáveis 'G' e 'H', respectivamente. Este gráfico consiste em uma combinação do boxplot com o kernel density estimate (kde)."
   ]
  },
  {
   "cell_type": "code",
   "execution_count": 39,
   "metadata": {},
   "outputs": [
    {
     "name": "stdout",
     "output_type": "stream",
     "text": [
      "[-1  4  7  9]\n",
      "\n",
      "[ 1  2  3  4  5  6  7  8  9 10]\n",
      "\n",
      "[10 11 12 13 14]\n",
      "\n",
      "[1990 1995 2000 2005 2010 2015 2020]\n",
      "\n",
      "[2020 2010 2000 1990 1980 1970 1960 1950 1940 1930 1920 1910 1900]\n",
      "\n",
      "100\n"
     ]
    }
   ],
   "source": [
    "a = np.array([-1, 4, 7, 9])\n",
    "b = np.array(range(1,11))\n",
    "tupla = (10,11,12,13,14)\n",
    "c = np.array(tupla)\n",
    "d = np.array(range(1990,2021,5))\n",
    "e = np.array(range(2020,1899,-10))\n",
    "f = np.array(100)\n",
    "\n",
    "print(a)\n",
    "print()\n",
    "print(b)\n",
    "print()\n",
    "print(c)\n",
    "print()\n",
    "print(d)\n",
    "print()\n",
    "print(e)\n",
    "print()\n",
    "print(f)"
   ]
  },
  {
   "attachments": {},
   "cell_type": "markdown",
   "metadata": {},
   "source": [
    "# Exercícios 21-25\n",
    "\n",
    "Carregue o dataset anexo nesta aula e em seguida faça:\n",
    "\n",
    "```\n",
    "import pandas as pd\n",
    "series = pd.read_csv( 'Airline_passengers.csv' , header=0, index_col=0, parse_dates=True,\n",
    "squeeze=True)\n",
    "```\n",
    "\n",
    "**21**\n",
    "\n",
    "Apresente as estatísticas descritivas da série temporal com a função describe();\n",
    "\n",
    "Mostre o shape do dataset.\n",
    "\n",
    "**22**\n",
    "\n",
    "Faça um gráfico de linhas para demonstrar a evolução da variável 'Airline-passengers' no tempo.\n",
    "\n",
    "**23**\n",
    "\n",
    "Faça um boxplot caracterizar a variável 'Airline-passengers'.\n",
    "\n",
    "**24**\n",
    "\n",
    "Faça um histograma e um kde plot.\n",
    "\n",
    "**25**\n",
    "\n",
    "Importe a função lag_plot e aplique a série temporal (esta função gera um lag plot para séries temporais.)\n",
    "\n",
    "```\n",
    "from pandas.plotting import lag_plot\n",
    "```\n",
    "\n",
    "Recursos para esta aula\n",
    "\n",
    "pd.read_csv('../Dados/Airline_passengers.csv')"
   ]
  },
  {
   "cell_type": "code",
   "execution_count": 40,
   "metadata": {},
   "outputs": [
    {
     "name": "stdout",
     "output_type": "stream",
     "text": [
      "[1. 1. 1. 1. 1. 1. 1. 1. 1. 1.]\n",
      "\n",
      "[[1. 1. 1. 1.]\n",
      " [1. 1. 1. 1.]\n",
      " [1. 1. 1. 1.]\n",
      " [1. 1. 1. 1.]]\n",
      "\n",
      "[[1 1 1]\n",
      " [1 1 1]]\n"
     ]
    }
   ],
   "source": [
    "a = np.ones(shape= 10)\n",
    "b = np.ones(shape= (4,4))\n",
    "c = np.ones(shape= (2,3), dtype= int)\n",
    "\n",
    "print(a)\n",
    "print()\n",
    "print(b)\n",
    "print()\n",
    "print(c)"
   ]
  }
 ],
 "metadata": {
  "kernelspec": {
   "display_name": "venv",
   "language": "python",
   "name": "python3"
  },
  "language_info": {
   "codemirror_mode": {
    "name": "ipython",
    "version": 3
   },
   "file_extension": ".py",
   "mimetype": "text/x-python",
   "name": "python",
   "nbconvert_exporter": "python",
   "pygments_lexer": "ipython3",
   "version": "3.10.6 (main, Nov 14 2022, 16:10:14) [GCC 11.3.0]"
  },
  "orig_nbformat": 4,
  "vscode": {
   "interpreter": {
    "hash": "8dd7d52f2c39cac81aaf55a4d1a13b695a98dd40aa0b9414225b9fd5b9845f9f"
   }
  }
 },
 "nbformat": 4,
 "nbformat_minor": 2
}
